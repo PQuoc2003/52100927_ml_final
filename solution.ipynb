{
 "cells": [
  {
   "cell_type": "code",
   "execution_count": 9,
   "metadata": {},
   "outputs": [],
   "source": [
    "import pandas as pd\n",
    "from sklearn.preprocessing import LabelEncoder\n",
    "from sklearn.naive_bayes import MultinomialNB\n",
    "from sklearn.naive_bayes import GaussianNB\n",
    "from sklearn.model_selection import train_test_split\n",
    "from sklearn.metrics import accuracy_score\n",
    "from sklearn.feature_selection import f_classif, SelectKBest\n",
    "from keras.models import Sequential\n",
    "from keras.layers import LSTM, Dense"
   ]
  },
  {
   "cell_type": "markdown",
   "metadata": {},
   "source": [
    "## Read data file"
   ]
  },
  {
   "cell_type": "code",
   "execution_count": 3,
   "metadata": {},
   "outputs": [],
   "source": [
    "data = pd.read_csv('./wine.csv')"
   ]
  },
  {
   "cell_type": "markdown",
   "metadata": {},
   "source": [
    "## Preprocessing"
   ]
  },
  {
   "cell_type": "code",
   "execution_count": 4,
   "metadata": {},
   "outputs": [],
   "source": [
    "le =LabelEncoder()\n",
    "\n",
    "le.fit(data['color'])\n",
    "\n",
    "data['color']=le.transform(data['color'])\n"
   ]
  },
  {
   "cell_type": "markdown",
   "metadata": {},
   "source": [
    "## 2. Use simple model to solve problem"
   ]
  },
  {
   "cell_type": "code",
   "execution_count": 5,
   "metadata": {},
   "outputs": [],
   "source": [
    "X = data.drop('color', axis=1)\n",
    "y = data['color']"
   ]
  },
  {
   "cell_type": "code",
   "execution_count": 6,
   "metadata": {},
   "outputs": [],
   "source": [
    "X_train, X_test , y_train , y_test = train_test_split(X, y, test_size=0.25, random_state=42)"
   ]
  },
  {
   "cell_type": "markdown",
   "metadata": {},
   "source": [
    "### Gaussian Naive Bayes"
   ]
  },
  {
   "cell_type": "code",
   "execution_count": 14,
   "metadata": {},
   "outputs": [
    {
     "name": "stdout",
     "output_type": "stream",
     "text": [
      "accuracy :  0.9686153846153847\n"
     ]
    }
   ],
   "source": [
    "model = GaussianNB()\n",
    "\n",
    "model.fit(X_train, y_train)\n",
    "\n",
    "y_pred = model.predict(X_test)\n",
    "\n",
    "print(\"accuracy : \", accuracy_score(y_test, y_pred))\n"
   ]
  },
  {
   "cell_type": "markdown",
   "metadata": {},
   "source": [
    "## 3 . Recurrent Neutral Network"
   ]
  },
  {
   "cell_type": "code",
   "execution_count": 37,
   "metadata": {},
   "outputs": [],
   "source": [
    "X_value = data.drop('color', axis=1).values\n",
    "y_value = data['color'].values"
   ]
  },
  {
   "cell_type": "code",
   "execution_count": 38,
   "metadata": {},
   "outputs": [],
   "source": [
    "X_train_n, X_test_n, y_train_n, y_test_n = train_test_split(X_value, y_value, test_size=0.2, random_state=42)"
   ]
  },
  {
   "cell_type": "code",
   "execution_count": 39,
   "metadata": {},
   "outputs": [],
   "source": [
    "X_train_n = X_train_n.reshape((X_train_n.shape[0], 1, X_train_n.shape[1]))\n",
    "X_test_n = X_test_n.reshape((X_test_n.shape[0], 1, X_test_n.shape[1]))"
   ]
  },
  {
   "cell_type": "code",
   "execution_count": 40,
   "metadata": {},
   "outputs": [],
   "source": [
    "model = Sequential()\n",
    "model.add(LSTM(128, input_shape=(X_train_n.shape[1], X_train_n.shape[2]), return_sequences=True))\n",
    "model.add(LSTM(128, return_sequences=True))\n",
    "model.add(LSTM(64))\n",
    "model.add(Dense(2, activation='softmax'))"
   ]
  },
  {
   "cell_type": "code",
   "execution_count": 41,
   "metadata": {},
   "outputs": [],
   "source": [
    "model.compile(loss='sparse_categorical_crossentropy', optimizer='adam', metrics=['accuracy'])"
   ]
  },
  {
   "cell_type": "code",
   "execution_count": 42,
   "metadata": {},
   "outputs": [
    {
     "name": "stdout",
     "output_type": "stream",
     "text": [
      "Epoch 1/50\n",
      "82/82 [==============================] - 5s 18ms/step - loss: 0.2809 - accuracy: 0.8901 - val_loss: 0.2022 - val_accuracy: 0.9269\n",
      "Epoch 2/50\n",
      "82/82 [==============================] - 1s 7ms/step - loss: 0.1618 - accuracy: 0.9438 - val_loss: 0.1630 - val_accuracy: 0.9362\n",
      "Epoch 3/50\n",
      "82/82 [==============================] - 1s 7ms/step - loss: 0.1340 - accuracy: 0.9525 - val_loss: 0.1449 - val_accuracy: 0.9415\n",
      "Epoch 4/50\n",
      "82/82 [==============================] - 1s 7ms/step - loss: 0.1136 - accuracy: 0.9621 - val_loss: 0.1223 - val_accuracy: 0.9538\n",
      "Epoch 5/50\n",
      "82/82 [==============================] - 1s 7ms/step - loss: 0.0941 - accuracy: 0.9704 - val_loss: 0.1043 - val_accuracy: 0.9638\n",
      "Epoch 6/50\n",
      "82/82 [==============================] - 1s 8ms/step - loss: 0.0832 - accuracy: 0.9731 - val_loss: 0.0889 - val_accuracy: 0.9685\n",
      "Epoch 7/50\n",
      "82/82 [==============================] - 1s 7ms/step - loss: 0.0946 - accuracy: 0.9690 - val_loss: 0.1082 - val_accuracy: 0.9646\n",
      "Epoch 8/50\n",
      "82/82 [==============================] - 1s 7ms/step - loss: 0.0787 - accuracy: 0.9750 - val_loss: 0.0723 - val_accuracy: 0.9769\n",
      "Epoch 9/50\n",
      "82/82 [==============================] - 1s 7ms/step - loss: 0.0720 - accuracy: 0.9767 - val_loss: 0.1039 - val_accuracy: 0.9654\n",
      "Epoch 10/50\n",
      "82/82 [==============================] - 1s 7ms/step - loss: 0.0792 - accuracy: 0.9733 - val_loss: 0.0664 - val_accuracy: 0.9800\n",
      "Epoch 11/50\n",
      "82/82 [==============================] - 1s 6ms/step - loss: 0.0599 - accuracy: 0.9817 - val_loss: 0.1364 - val_accuracy: 0.9515\n",
      "Epoch 12/50\n",
      "82/82 [==============================] - 1s 6ms/step - loss: 0.0611 - accuracy: 0.9811 - val_loss: 0.0885 - val_accuracy: 0.9669\n",
      "Epoch 13/50\n",
      "82/82 [==============================] - 1s 7ms/step - loss: 0.0580 - accuracy: 0.9817 - val_loss: 0.0640 - val_accuracy: 0.9846\n",
      "Epoch 14/50\n",
      "82/82 [==============================] - 1s 7ms/step - loss: 0.0527 - accuracy: 0.9836 - val_loss: 0.0601 - val_accuracy: 0.9831\n",
      "Epoch 15/50\n",
      "82/82 [==============================] - 1s 7ms/step - loss: 0.0543 - accuracy: 0.9840 - val_loss: 0.0819 - val_accuracy: 0.9708\n",
      "Epoch 16/50\n",
      "82/82 [==============================] - 1s 8ms/step - loss: 0.0660 - accuracy: 0.9792 - val_loss: 0.0697 - val_accuracy: 0.9777\n",
      "Epoch 17/50\n",
      "82/82 [==============================] - 1s 8ms/step - loss: 0.0494 - accuracy: 0.9852 - val_loss: 0.0646 - val_accuracy: 0.9823\n",
      "Epoch 18/50\n",
      "82/82 [==============================] - 1s 8ms/step - loss: 0.0580 - accuracy: 0.9800 - val_loss: 0.0523 - val_accuracy: 0.9854\n",
      "Epoch 19/50\n",
      "82/82 [==============================] - 1s 9ms/step - loss: 0.0488 - accuracy: 0.9854 - val_loss: 0.0697 - val_accuracy: 0.9808\n",
      "Epoch 20/50\n",
      "82/82 [==============================] - 1s 9ms/step - loss: 0.0543 - accuracy: 0.9821 - val_loss: 0.0542 - val_accuracy: 0.9815\n",
      "Epoch 21/50\n",
      "82/82 [==============================] - 1s 14ms/step - loss: 0.0432 - accuracy: 0.9877 - val_loss: 0.0548 - val_accuracy: 0.9885\n",
      "Epoch 22/50\n",
      "82/82 [==============================] - 1s 11ms/step - loss: 0.0491 - accuracy: 0.9854 - val_loss: 0.0506 - val_accuracy: 0.9838\n",
      "Epoch 23/50\n",
      "82/82 [==============================] - 1s 10ms/step - loss: 0.0552 - accuracy: 0.9815 - val_loss: 0.1120 - val_accuracy: 0.9600\n",
      "Epoch 24/50\n",
      "82/82 [==============================] - 1s 9ms/step - loss: 0.0469 - accuracy: 0.9865 - val_loss: 0.0576 - val_accuracy: 0.9869\n",
      "Epoch 25/50\n",
      "82/82 [==============================] - 1s 11ms/step - loss: 0.0492 - accuracy: 0.9842 - val_loss: 0.0523 - val_accuracy: 0.9815\n",
      "Epoch 26/50\n",
      "82/82 [==============================] - 1s 10ms/step - loss: 0.0453 - accuracy: 0.9873 - val_loss: 0.0504 - val_accuracy: 0.9862\n",
      "Epoch 27/50\n",
      "82/82 [==============================] - 1s 9ms/step - loss: 0.0445 - accuracy: 0.9869 - val_loss: 0.0527 - val_accuracy: 0.9846\n",
      "Epoch 28/50\n",
      "82/82 [==============================] - 1s 8ms/step - loss: 0.0416 - accuracy: 0.9873 - val_loss: 0.0481 - val_accuracy: 0.9877\n",
      "Epoch 29/50\n",
      "82/82 [==============================] - 1s 8ms/step - loss: 0.0639 - accuracy: 0.9771 - val_loss: 0.0510 - val_accuracy: 0.9846\n",
      "Epoch 30/50\n",
      "82/82 [==============================] - 1s 10ms/step - loss: 0.0402 - accuracy: 0.9881 - val_loss: 0.0607 - val_accuracy: 0.9808\n",
      "Epoch 31/50\n",
      "82/82 [==============================] - 1s 8ms/step - loss: 0.0392 - accuracy: 0.9885 - val_loss: 0.0506 - val_accuracy: 0.9838\n",
      "Epoch 32/50\n",
      "82/82 [==============================] - 1s 10ms/step - loss: 0.0437 - accuracy: 0.9873 - val_loss: 0.0454 - val_accuracy: 0.9862\n",
      "Epoch 33/50\n",
      "82/82 [==============================] - 1s 8ms/step - loss: 0.0446 - accuracy: 0.9869 - val_loss: 0.0663 - val_accuracy: 0.9777\n",
      "Epoch 34/50\n",
      "82/82 [==============================] - 1s 7ms/step - loss: 0.0441 - accuracy: 0.9860 - val_loss: 0.0450 - val_accuracy: 0.9877\n",
      "Epoch 35/50\n",
      "82/82 [==============================] - 1s 6ms/step - loss: 0.0429 - accuracy: 0.9871 - val_loss: 0.0493 - val_accuracy: 0.9854\n",
      "Epoch 36/50\n",
      "82/82 [==============================] - 0s 6ms/step - loss: 0.0395 - accuracy: 0.9888 - val_loss: 0.0513 - val_accuracy: 0.9846\n",
      "Epoch 37/50\n",
      "82/82 [==============================] - 1s 6ms/step - loss: 0.0444 - accuracy: 0.9858 - val_loss: 0.0538 - val_accuracy: 0.9792\n",
      "Epoch 38/50\n",
      "82/82 [==============================] - 1s 6ms/step - loss: 0.0448 - accuracy: 0.9844 - val_loss: 0.0509 - val_accuracy: 0.9854\n",
      "Epoch 39/50\n",
      "82/82 [==============================] - 0s 6ms/step - loss: 0.0484 - accuracy: 0.9842 - val_loss: 0.0467 - val_accuracy: 0.9846\n",
      "Epoch 40/50\n",
      "82/82 [==============================] - 1s 6ms/step - loss: 0.0363 - accuracy: 0.9898 - val_loss: 0.0441 - val_accuracy: 0.9869\n",
      "Epoch 41/50\n",
      "82/82 [==============================] - 0s 6ms/step - loss: 0.0405 - accuracy: 0.9892 - val_loss: 0.0422 - val_accuracy: 0.9885\n",
      "Epoch 42/50\n",
      "82/82 [==============================] - 0s 6ms/step - loss: 0.0373 - accuracy: 0.9892 - val_loss: 0.0456 - val_accuracy: 0.9854\n",
      "Epoch 43/50\n",
      "82/82 [==============================] - 1s 6ms/step - loss: 0.0345 - accuracy: 0.9902 - val_loss: 0.0690 - val_accuracy: 0.9769\n",
      "Epoch 44/50\n",
      "82/82 [==============================] - 1s 6ms/step - loss: 0.0350 - accuracy: 0.9900 - val_loss: 0.0977 - val_accuracy: 0.9715\n",
      "Epoch 45/50\n",
      "82/82 [==============================] - 0s 6ms/step - loss: 0.0358 - accuracy: 0.9906 - val_loss: 0.0468 - val_accuracy: 0.9862\n",
      "Epoch 46/50\n",
      "82/82 [==============================] - 1s 6ms/step - loss: 0.0494 - accuracy: 0.9838 - val_loss: 0.0434 - val_accuracy: 0.9869\n",
      "Epoch 47/50\n",
      "82/82 [==============================] - 0s 6ms/step - loss: 0.0388 - accuracy: 0.9886 - val_loss: 0.0421 - val_accuracy: 0.9869\n",
      "Epoch 48/50\n",
      "82/82 [==============================] - 0s 6ms/step - loss: 0.0406 - accuracy: 0.9871 - val_loss: 0.0532 - val_accuracy: 0.9823\n",
      "Epoch 49/50\n",
      "82/82 [==============================] - 0s 6ms/step - loss: 0.0365 - accuracy: 0.9888 - val_loss: 0.0424 - val_accuracy: 0.9885\n",
      "Epoch 50/50\n",
      "82/82 [==============================] - 0s 6ms/step - loss: 0.0361 - accuracy: 0.9898 - val_loss: 0.0430 - val_accuracy: 0.9869\n"
     ]
    },
    {
     "data": {
      "text/plain": [
       "<keras.src.callbacks.History at 0x1f735e84c50>"
      ]
     },
     "execution_count": 42,
     "metadata": {},
     "output_type": "execute_result"
    }
   ],
   "source": [
    "model.fit(X_train_n, y_train_n, epochs=50, batch_size=64, validation_data=(X_test_n, y_test_n))"
   ]
  },
  {
   "cell_type": "code",
   "execution_count": 43,
   "metadata": {},
   "outputs": [
    {
     "name": "stdout",
     "output_type": "stream",
     "text": [
      "41/41 [==============================] - 0s 2ms/step - loss: 0.0430 - accuracy: 0.9869\n",
      "Test Loss: 0.0430\n",
      "Test Accuracy: 0.9869\n"
     ]
    }
   ],
   "source": [
    "loss, accuracy = model.evaluate(X_test_n, y_test_n)\n",
    "print(f\"Test Loss: {loss:.4f}\")\n",
    "print(f\"Test Accuracy: {accuracy:.4f}\")"
   ]
  },
  {
   "cell_type": "markdown",
   "metadata": {},
   "source": [
    "## 4. Overfitting"
   ]
  },
  {
   "cell_type": "markdown",
   "metadata": {},
   "source": [
    "### Gaussian Naive Bayes"
   ]
  },
  {
   "cell_type": "code",
   "execution_count": 61,
   "metadata": {},
   "outputs": [
    {
     "data": {
      "text/plain": [
       "<Axes: >"
      ]
     },
     "execution_count": 61,
     "metadata": {},
     "output_type": "execute_result"
    },
    {
     "data": {
      "image/png": "[encoded data removed]",
      "text/plain": [
       "<Figure size 640x480 with 1 Axes>"
      ]
     },
     "metadata": {},
     "output_type": "display_data"
    }
   ],
   "source": [
    "X = data.drop('color', axis=1)\n",
    "y = data['color']\n",
    "\n",
    "score = f_classif(X, y)\n",
    "\n",
    "value = pd.Series(score[0], index=X.columns)\n",
    "value.sort_values(ascending=False, inplace=True)\n",
    "value.plot.bar()"
   ]
  },
  {
   "cell_type": "markdown",
   "metadata": {},
   "source": [
    "#### Select 9 best attribute"
   ]
  },
  {
   "cell_type": "code",
   "execution_count": 64,
   "metadata": {},
   "outputs": [],
   "source": [
    "selector = SelectKBest(f_classif, k = 9)\n",
    "selector.fit(X,y)\n",
    "cols_name = selector.get_support(indices=True)\n",
    "\n",
    "X_train_new = X_train.iloc[:,cols_name]\n",
    "X_test_new = X_test.iloc[:,cols_name]"
   ]
  },
  {
   "cell_type": "markdown",
   "metadata": {},
   "source": [
    "#### Evaluate"
   ]
  },
  {
   "cell_type": "code",
   "execution_count": 65,
   "metadata": {},
   "outputs": [
    {
     "name": "stdout",
     "output_type": "stream",
     "text": [
      "accuracy :  0.9673846153846154\n"
     ]
    }
   ],
   "source": [
    "model = GaussianNB()\n",
    "\n",
    "model.fit(X_train_new, y_train)\n",
    "\n",
    "y_pred = model.predict(X_test_new)\n",
    "\n",
    "print(\"accuracy : \", accuracy_score(y_test, y_pred))"
   ]
  },
  {
   "cell_type": "markdown",
   "metadata": {},
   "source": [
    "### Recurrent Neutral Network"
   ]
  },
  {
   "cell_type": "markdown",
   "metadata": {},
   "source": [
    "Để giảm overfitting , ta có thể giảm độ phức tạp của mô hình bằng cách giảm hidden layer , cũng như số neuron trên 1 layer, giảm epochs\n",
    "\n",
    "Ở đây , ta sẽ bớt đi một hidden layer ở giữa"
   ]
  },
  {
   "cell_type": "code",
   "execution_count": 44,
   "metadata": {},
   "outputs": [],
   "source": [
    "model_over = Sequential()\n",
    "model_over.add(LSTM(128, input_shape=(X_train_n.shape[1], X_train_n.shape[2]), return_sequences=True))\n",
    "model_over.add(LSTM(64))\n",
    "model_over.add(Dense(2, activation='softmax'))"
   ]
  },
  {
   "cell_type": "code",
   "execution_count": 45,
   "metadata": {},
   "outputs": [],
   "source": [
    "model_over.compile(loss='sparse_categorical_crossentropy', optimizer='adam', metrics=['accuracy'])"
   ]
  },
  {
   "cell_type": "code",
   "execution_count": 46,
   "metadata": {},
   "outputs": [
    {
     "name": "stdout",
     "output_type": "stream",
     "text": [
      "Epoch 1/25\n",
      "163/163 [==============================] - 5s 8ms/step - loss: 0.2238 - accuracy: 0.9159 - val_loss: 0.2120 - val_accuracy: 0.9246\n",
      "Epoch 2/25\n",
      "163/163 [==============================] - 1s 4ms/step - loss: 0.1563 - accuracy: 0.9444 - val_loss: 0.1508 - val_accuracy: 0.9454\n",
      "Epoch 3/25\n",
      "163/163 [==============================] - 1s 4ms/step - loss: 0.1203 - accuracy: 0.9552 - val_loss: 0.1078 - val_accuracy: 0.9623\n",
      "Epoch 4/25\n",
      "163/163 [==============================] - 1s 4ms/step - loss: 0.1005 - accuracy: 0.9669 - val_loss: 0.1291 - val_accuracy: 0.9577\n",
      "Epoch 5/25\n",
      "163/163 [==============================] - 1s 4ms/step - loss: 0.0861 - accuracy: 0.9721 - val_loss: 0.1117 - val_accuracy: 0.9600\n",
      "Epoch 6/25\n",
      "163/163 [==============================] - 1s 4ms/step - loss: 0.0759 - accuracy: 0.9769 - val_loss: 0.0789 - val_accuracy: 0.9777\n",
      "Epoch 7/25\n",
      "163/163 [==============================] - 1s 6ms/step - loss: 0.0758 - accuracy: 0.9750 - val_loss: 0.0748 - val_accuracy: 0.9723\n",
      "Epoch 8/25\n",
      "163/163 [==============================] - 1s 5ms/step - loss: 0.0685 - accuracy: 0.9769 - val_loss: 0.0726 - val_accuracy: 0.9746\n",
      "Epoch 9/25\n",
      "163/163 [==============================] - 1s 4ms/step - loss: 0.0599 - accuracy: 0.9840 - val_loss: 0.0687 - val_accuracy: 0.9785\n",
      "Epoch 10/25\n",
      "163/163 [==============================] - 1s 4ms/step - loss: 0.0715 - accuracy: 0.9738 - val_loss: 0.0912 - val_accuracy: 0.9700\n",
      "Epoch 11/25\n",
      "163/163 [==============================] - 1s 4ms/step - loss: 0.0675 - accuracy: 0.9794 - val_loss: 0.0727 - val_accuracy: 0.9800\n",
      "Epoch 12/25\n",
      "163/163 [==============================] - 1s 4ms/step - loss: 0.0546 - accuracy: 0.9844 - val_loss: 0.0654 - val_accuracy: 0.9785\n",
      "Epoch 13/25\n",
      "163/163 [==============================] - 1s 5ms/step - loss: 0.0530 - accuracy: 0.9829 - val_loss: 0.0677 - val_accuracy: 0.9815\n",
      "Epoch 14/25\n",
      "163/163 [==============================] - 1s 4ms/step - loss: 0.0560 - accuracy: 0.9819 - val_loss: 0.1044 - val_accuracy: 0.9700\n",
      "Epoch 15/25\n",
      "163/163 [==============================] - 1s 4ms/step - loss: 0.0647 - accuracy: 0.9792 - val_loss: 0.0884 - val_accuracy: 0.9700\n",
      "Epoch 16/25\n",
      "163/163 [==============================] - 1s 4ms/step - loss: 0.0528 - accuracy: 0.9848 - val_loss: 0.0606 - val_accuracy: 0.9838\n",
      "Epoch 17/25\n",
      "163/163 [==============================] - 1s 4ms/step - loss: 0.0575 - accuracy: 0.9825 - val_loss: 0.0755 - val_accuracy: 0.9731\n",
      "Epoch 18/25\n",
      "163/163 [==============================] - 1s 4ms/step - loss: 0.0503 - accuracy: 0.9846 - val_loss: 0.0596 - val_accuracy: 0.9862\n",
      "Epoch 19/25\n",
      "163/163 [==============================] - 1s 7ms/step - loss: 0.0483 - accuracy: 0.9869 - val_loss: 0.0614 - val_accuracy: 0.9831\n",
      "Epoch 20/25\n",
      "163/163 [==============================] - 1s 4ms/step - loss: 0.0485 - accuracy: 0.9844 - val_loss: 0.0553 - val_accuracy: 0.9862\n",
      "Epoch 21/25\n",
      "163/163 [==============================] - 1s 4ms/step - loss: 0.0510 - accuracy: 0.9846 - val_loss: 0.0579 - val_accuracy: 0.9823\n",
      "Epoch 22/25\n",
      "163/163 [==============================] - 1s 6ms/step - loss: 0.0520 - accuracy: 0.9846 - val_loss: 0.0775 - val_accuracy: 0.9731\n",
      "Epoch 23/25\n",
      "163/163 [==============================] - 1s 7ms/step - loss: 0.0574 - accuracy: 0.9833 - val_loss: 0.0705 - val_accuracy: 0.9800\n",
      "Epoch 24/25\n",
      "163/163 [==============================] - 1s 4ms/step - loss: 0.0559 - accuracy: 0.9827 - val_loss: 0.0819 - val_accuracy: 0.9785\n",
      "Epoch 25/25\n",
      "163/163 [==============================] - 1s 4ms/step - loss: 0.0493 - accuracy: 0.9836 - val_loss: 0.0535 - val_accuracy: 0.9862\n"
     ]
    },
    {
     "data": {
      "text/plain": [
       "<keras.src.callbacks.History at 0x1f73dbcef10>"
      ]
     },
     "execution_count": 46,
     "metadata": {},
     "output_type": "execute_result"
    }
   ],
   "source": [
    "model_over.fit(X_train_n, y_train_n, epochs=25, batch_size=32, validation_data=(X_test_n, y_test_n))"
   ]
  },
  {
   "cell_type": "code",
   "execution_count": 47,
   "metadata": {},
   "outputs": [
    {
     "name": "stdout",
     "output_type": "stream",
     "text": [
      "41/41 [==============================] - 0s 2ms/step - loss: 0.0535 - accuracy: 0.9862\n",
      "Test Loss: 0.0535\n",
      "Test Accuracy: 0.9862\n"
     ]
    }
   ],
   "source": [
    "loss, accuracy = model_over.evaluate(X_test_n, y_test_n)\n",
    "print(f\"Test Loss: {loss:.4f}\")\n",
    "print(f\"Test Accuracy: {accuracy:.4f}\")"
   ]
  },
  {
   "cell_type": "markdown",
   "metadata": {},
   "source": [
    "## 5. Improve the accuracy"
   ]
  },
  {
   "cell_type": "markdown",
   "metadata": {},
   "source": [
    "### Gaussian NB"
   ]
  },
  {
   "cell_type": "markdown",
   "metadata": {},
   "source": [
    "### Recurrent Neutral Network"
   ]
  },
  {
   "cell_type": "markdown",
   "metadata": {},
   "source": [
    "Tăng accuracy bằng cách tăng epochs cũng như batch_size"
   ]
  },
  {
   "cell_type": "code",
   "execution_count": 48,
   "metadata": {},
   "outputs": [],
   "source": [
    "model = Sequential()\n",
    "model.add(LSTM(128, input_shape=(X_train_n.shape[1], X_train_n.shape[2]), return_sequences=True))\n",
    "model.add(LSTM(128, return_sequences=True))\n",
    "model.add(LSTM(64))\n",
    "model.add(Dense(2, activation='softmax'))"
   ]
  },
  {
   "cell_type": "code",
   "execution_count": 49,
   "metadata": {},
   "outputs": [],
   "source": [
    "model.compile(loss='sparse_categorical_crossentropy', optimizer='adam', metrics=['accuracy'])"
   ]
  },
  {
   "cell_type": "code",
   "execution_count": 59,
   "metadata": {},
   "outputs": [
    {
     "name": "stdout",
     "output_type": "stream",
     "text": [
      "Epoch 1/100\n",
      "11/11 [==============================] - 0s 24ms/step - loss: 0.0318 - accuracy: 0.9896 - val_loss: 0.0520 - val_accuracy: 0.9823\n",
      "Epoch 2/100\n",
      "11/11 [==============================] - 0s 20ms/step - loss: 0.0257 - accuracy: 0.9919 - val_loss: 0.0488 - val_accuracy: 0.9869\n",
      "Epoch 3/100\n",
      "11/11 [==============================] - 0s 20ms/step - loss: 0.0279 - accuracy: 0.9935 - val_loss: 0.0448 - val_accuracy: 0.9885\n",
      "Epoch 4/100\n",
      "11/11 [==============================] - 0s 26ms/step - loss: 0.0370 - accuracy: 0.9877 - val_loss: 0.0845 - val_accuracy: 0.9738\n",
      "Epoch 5/100\n",
      "11/11 [==============================] - 0s 24ms/step - loss: 0.0396 - accuracy: 0.9867 - val_loss: 0.0471 - val_accuracy: 0.9885\n",
      "Epoch 6/100\n",
      "11/11 [==============================] - 0s 20ms/step - loss: 0.0278 - accuracy: 0.9919 - val_loss: 0.0442 - val_accuracy: 0.9892\n",
      "Epoch 7/100\n",
      "11/11 [==============================] - 0s 21ms/step - loss: 0.0288 - accuracy: 0.9913 - val_loss: 0.0445 - val_accuracy: 0.9885\n",
      "Epoch 8/100\n",
      "11/11 [==============================] - 0s 25ms/step - loss: 0.0257 - accuracy: 0.9925 - val_loss: 0.0426 - val_accuracy: 0.9892\n",
      "Epoch 9/100\n",
      "11/11 [==============================] - 0s 21ms/step - loss: 0.0242 - accuracy: 0.9931 - val_loss: 0.0423 - val_accuracy: 0.9885\n",
      "Epoch 10/100\n",
      "11/11 [==============================] - 0s 21ms/step - loss: 0.0256 - accuracy: 0.9923 - val_loss: 0.0435 - val_accuracy: 0.9885\n",
      "Epoch 11/100\n",
      "11/11 [==============================] - 0s 21ms/step - loss: 0.0234 - accuracy: 0.9927 - val_loss: 0.0427 - val_accuracy: 0.9892\n",
      "Epoch 12/100\n",
      "11/11 [==============================] - 0s 21ms/step - loss: 0.0241 - accuracy: 0.9931 - val_loss: 0.0489 - val_accuracy: 0.9877\n",
      "Epoch 13/100\n",
      "11/11 [==============================] - 0s 22ms/step - loss: 0.0245 - accuracy: 0.9927 - val_loss: 0.0476 - val_accuracy: 0.9885\n",
      "Epoch 14/100\n",
      "11/11 [==============================] - 0s 21ms/step - loss: 0.0244 - accuracy: 0.9927 - val_loss: 0.0422 - val_accuracy: 0.9892\n",
      "Epoch 15/100\n",
      "11/11 [==============================] - 0s 21ms/step - loss: 0.0272 - accuracy: 0.9921 - val_loss: 0.0647 - val_accuracy: 0.9792\n",
      "Epoch 16/100\n",
      "11/11 [==============================] - 0s 22ms/step - loss: 0.0424 - accuracy: 0.9867 - val_loss: 0.0481 - val_accuracy: 0.9862\n",
      "Epoch 17/100\n",
      "11/11 [==============================] - 0s 28ms/step - loss: 0.0242 - accuracy: 0.9921 - val_loss: 0.0461 - val_accuracy: 0.9877\n",
      "Epoch 18/100\n",
      "11/11 [==============================] - 0s 24ms/step - loss: 0.0237 - accuracy: 0.9935 - val_loss: 0.0533 - val_accuracy: 0.9831\n",
      "Epoch 19/100\n",
      "11/11 [==============================] - 0s 23ms/step - loss: 0.0254 - accuracy: 0.9913 - val_loss: 0.0404 - val_accuracy: 0.9900\n",
      "Epoch 20/100\n",
      "11/11 [==============================] - 0s 24ms/step - loss: 0.0233 - accuracy: 0.9935 - val_loss: 0.0396 - val_accuracy: 0.9900\n",
      "Epoch 21/100\n",
      "11/11 [==============================] - 0s 21ms/step - loss: 0.0250 - accuracy: 0.9925 - val_loss: 0.0432 - val_accuracy: 0.9885\n",
      "Epoch 22/100\n",
      "11/11 [==============================] - 0s 23ms/step - loss: 0.0250 - accuracy: 0.9917 - val_loss: 0.0447 - val_accuracy: 0.9877\n",
      "Epoch 23/100\n",
      "11/11 [==============================] - 0s 20ms/step - loss: 0.0282 - accuracy: 0.9919 - val_loss: 0.0429 - val_accuracy: 0.9862\n",
      "Epoch 24/100\n",
      "11/11 [==============================] - 0s 21ms/step - loss: 0.0251 - accuracy: 0.9933 - val_loss: 0.0453 - val_accuracy: 0.9885\n",
      "Epoch 25/100\n",
      "11/11 [==============================] - 0s 22ms/step - loss: 0.0279 - accuracy: 0.9917 - val_loss: 0.0629 - val_accuracy: 0.9808\n",
      "Epoch 26/100\n",
      "11/11 [==============================] - 0s 20ms/step - loss: 0.0315 - accuracy: 0.9892 - val_loss: 0.0441 - val_accuracy: 0.9892\n",
      "Epoch 27/100\n",
      "11/11 [==============================] - 0s 21ms/step - loss: 0.0290 - accuracy: 0.9915 - val_loss: 0.0773 - val_accuracy: 0.9762\n",
      "Epoch 28/100\n",
      "11/11 [==============================] - 0s 21ms/step - loss: 0.0306 - accuracy: 0.9913 - val_loss: 0.0401 - val_accuracy: 0.9892\n",
      "Epoch 29/100\n",
      "11/11 [==============================] - 0s 21ms/step - loss: 0.0283 - accuracy: 0.9913 - val_loss: 0.0381 - val_accuracy: 0.9892\n",
      "Epoch 30/100\n",
      "11/11 [==============================] - 0s 23ms/step - loss: 0.0258 - accuracy: 0.9919 - val_loss: 0.0396 - val_accuracy: 0.9885\n",
      "Epoch 31/100\n",
      "11/11 [==============================] - 0s 21ms/step - loss: 0.0254 - accuracy: 0.9927 - val_loss: 0.0457 - val_accuracy: 0.9854\n",
      "Epoch 32/100\n",
      "11/11 [==============================] - 0s 21ms/step - loss: 0.0270 - accuracy: 0.9913 - val_loss: 0.0426 - val_accuracy: 0.9877\n",
      "Epoch 33/100\n",
      "11/11 [==============================] - 0s 21ms/step - loss: 0.0231 - accuracy: 0.9927 - val_loss: 0.0474 - val_accuracy: 0.9846\n",
      "Epoch 34/100\n",
      "11/11 [==============================] - 0s 22ms/step - loss: 0.0246 - accuracy: 0.9923 - val_loss: 0.0421 - val_accuracy: 0.9885\n",
      "Epoch 35/100\n",
      "11/11 [==============================] - 0s 21ms/step - loss: 0.0230 - accuracy: 0.9933 - val_loss: 0.0412 - val_accuracy: 0.9908\n",
      "Epoch 36/100\n",
      "11/11 [==============================] - 0s 21ms/step - loss: 0.0230 - accuracy: 0.9925 - val_loss: 0.0538 - val_accuracy: 0.9838\n",
      "Epoch 37/100\n",
      "11/11 [==============================] - 0s 26ms/step - loss: 0.0380 - accuracy: 0.9871 - val_loss: 0.0469 - val_accuracy: 0.9846\n",
      "Epoch 38/100\n",
      "11/11 [==============================] - 0s 21ms/step - loss: 0.0298 - accuracy: 0.9896 - val_loss: 0.0397 - val_accuracy: 0.9900\n",
      "Epoch 39/100\n",
      "11/11 [==============================] - 0s 21ms/step - loss: 0.0235 - accuracy: 0.9927 - val_loss: 0.0410 - val_accuracy: 0.9892\n",
      "Epoch 40/100\n",
      "11/11 [==============================] - 0s 21ms/step - loss: 0.0225 - accuracy: 0.9929 - val_loss: 0.0416 - val_accuracy: 0.9900\n",
      "Epoch 41/100\n",
      "11/11 [==============================] - 0s 21ms/step - loss: 0.0223 - accuracy: 0.9935 - val_loss: 0.0384 - val_accuracy: 0.9900\n",
      "Epoch 42/100\n",
      "11/11 [==============================] - 0s 22ms/step - loss: 0.0212 - accuracy: 0.9946 - val_loss: 0.0391 - val_accuracy: 0.9892\n",
      "Epoch 43/100\n",
      "11/11 [==============================] - 0s 21ms/step - loss: 0.0217 - accuracy: 0.9937 - val_loss: 0.0399 - val_accuracy: 0.9908\n",
      "Epoch 44/100\n",
      "11/11 [==============================] - 0s 21ms/step - loss: 0.0255 - accuracy: 0.9919 - val_loss: 0.0469 - val_accuracy: 0.9885\n",
      "Epoch 45/100\n",
      "11/11 [==============================] - 0s 20ms/step - loss: 0.0301 - accuracy: 0.9906 - val_loss: 0.0429 - val_accuracy: 0.9892\n",
      "Epoch 46/100\n",
      "11/11 [==============================] - 0s 19ms/step - loss: 0.0256 - accuracy: 0.9929 - val_loss: 0.0424 - val_accuracy: 0.9885\n",
      "Epoch 47/100\n",
      "11/11 [==============================] - 0s 19ms/step - loss: 0.0216 - accuracy: 0.9931 - val_loss: 0.0418 - val_accuracy: 0.9915\n",
      "Epoch 48/100\n",
      "11/11 [==============================] - 0s 22ms/step - loss: 0.0228 - accuracy: 0.9931 - val_loss: 0.0429 - val_accuracy: 0.9877\n",
      "Epoch 49/100\n",
      "11/11 [==============================] - 0s 22ms/step - loss: 0.0232 - accuracy: 0.9938 - val_loss: 0.0457 - val_accuracy: 0.9877\n",
      "Epoch 50/100\n",
      "11/11 [==============================] - 0s 32ms/step - loss: 0.0228 - accuracy: 0.9929 - val_loss: 0.0409 - val_accuracy: 0.9900\n",
      "Epoch 51/100\n",
      "11/11 [==============================] - 0s 29ms/step - loss: 0.0222 - accuracy: 0.9929 - val_loss: 0.0402 - val_accuracy: 0.9900\n",
      "Epoch 52/100\n",
      "11/11 [==============================] - 0s 20ms/step - loss: 0.0225 - accuracy: 0.9921 - val_loss: 0.0420 - val_accuracy: 0.9900\n",
      "Epoch 53/100\n",
      "11/11 [==============================] - 0s 19ms/step - loss: 0.0209 - accuracy: 0.9935 - val_loss: 0.0425 - val_accuracy: 0.9900\n",
      "Epoch 54/100\n",
      "11/11 [==============================] - 0s 19ms/step - loss: 0.0203 - accuracy: 0.9937 - val_loss: 0.0513 - val_accuracy: 0.9831\n",
      "Epoch 55/100\n",
      "11/11 [==============================] - 0s 19ms/step - loss: 0.0251 - accuracy: 0.9921 - val_loss: 0.0414 - val_accuracy: 0.9885\n",
      "Epoch 56/100\n",
      "11/11 [==============================] - 0s 22ms/step - loss: 0.0212 - accuracy: 0.9931 - val_loss: 0.0450 - val_accuracy: 0.9915\n",
      "Epoch 57/100\n",
      "11/11 [==============================] - 0s 19ms/step - loss: 0.0215 - accuracy: 0.9940 - val_loss: 0.0503 - val_accuracy: 0.9862\n",
      "Epoch 58/100\n",
      "11/11 [==============================] - 0s 21ms/step - loss: 0.0216 - accuracy: 0.9933 - val_loss: 0.0429 - val_accuracy: 0.9885\n",
      "Epoch 59/100\n",
      "11/11 [==============================] - 0s 21ms/step - loss: 0.0218 - accuracy: 0.9923 - val_loss: 0.0504 - val_accuracy: 0.9854\n",
      "Epoch 60/100\n",
      "11/11 [==============================] - 0s 20ms/step - loss: 0.0208 - accuracy: 0.9933 - val_loss: 0.0527 - val_accuracy: 0.9854\n",
      "Epoch 61/100\n",
      "11/11 [==============================] - 0s 21ms/step - loss: 0.0208 - accuracy: 0.9942 - val_loss: 0.0727 - val_accuracy: 0.9792\n",
      "Epoch 62/100\n",
      "11/11 [==============================] - 0s 21ms/step - loss: 0.1160 - accuracy: 0.9675 - val_loss: 0.1342 - val_accuracy: 0.9631\n",
      "Epoch 63/100\n",
      "11/11 [==============================] - 0s 19ms/step - loss: 0.0704 - accuracy: 0.9771 - val_loss: 0.0645 - val_accuracy: 0.9831\n",
      "Epoch 64/100\n",
      "11/11 [==============================] - 0s 20ms/step - loss: 0.0448 - accuracy: 0.9881 - val_loss: 0.0502 - val_accuracy: 0.9862\n",
      "Epoch 65/100\n",
      "11/11 [==============================] - 0s 20ms/step - loss: 0.0351 - accuracy: 0.9906 - val_loss: 0.0444 - val_accuracy: 0.9885\n",
      "Epoch 66/100\n",
      "11/11 [==============================] - 0s 19ms/step - loss: 0.0316 - accuracy: 0.9904 - val_loss: 0.0489 - val_accuracy: 0.9862\n",
      "Epoch 67/100\n",
      "11/11 [==============================] - 0s 20ms/step - loss: 0.0353 - accuracy: 0.9877 - val_loss: 0.0557 - val_accuracy: 0.9815\n",
      "Epoch 68/100\n",
      "11/11 [==============================] - 0s 21ms/step - loss: 0.0296 - accuracy: 0.9902 - val_loss: 0.0473 - val_accuracy: 0.9854\n",
      "Epoch 69/100\n",
      "11/11 [==============================] - 0s 19ms/step - loss: 0.0264 - accuracy: 0.9919 - val_loss: 0.0458 - val_accuracy: 0.9869\n",
      "Epoch 70/100\n",
      "11/11 [==============================] - 0s 21ms/step - loss: 0.0251 - accuracy: 0.9919 - val_loss: 0.0460 - val_accuracy: 0.9869\n",
      "Epoch 71/100\n",
      "11/11 [==============================] - 0s 20ms/step - loss: 0.0245 - accuracy: 0.9933 - val_loss: 0.0413 - val_accuracy: 0.9892\n",
      "Epoch 72/100\n",
      "11/11 [==============================] - 0s 20ms/step - loss: 0.0241 - accuracy: 0.9923 - val_loss: 0.0406 - val_accuracy: 0.9885\n",
      "Epoch 73/100\n",
      "11/11 [==============================] - 0s 20ms/step - loss: 0.0262 - accuracy: 0.9923 - val_loss: 0.0428 - val_accuracy: 0.9877\n",
      "Epoch 74/100\n",
      "11/11 [==============================] - 0s 21ms/step - loss: 0.0286 - accuracy: 0.9910 - val_loss: 0.0710 - val_accuracy: 0.9792\n",
      "Epoch 75/100\n",
      "11/11 [==============================] - 0s 20ms/step - loss: 0.0353 - accuracy: 0.9890 - val_loss: 0.0475 - val_accuracy: 0.9846\n",
      "Epoch 76/100\n",
      "11/11 [==============================] - 0s 21ms/step - loss: 0.0233 - accuracy: 0.9933 - val_loss: 0.0468 - val_accuracy: 0.9877\n",
      "Epoch 77/100\n",
      "11/11 [==============================] - 0s 20ms/step - loss: 0.0225 - accuracy: 0.9927 - val_loss: 0.0432 - val_accuracy: 0.9900\n",
      "Epoch 78/100\n",
      "11/11 [==============================] - 0s 19ms/step - loss: 0.0217 - accuracy: 0.9925 - val_loss: 0.0398 - val_accuracy: 0.9900\n",
      "Epoch 79/100\n",
      "11/11 [==============================] - 0s 20ms/step - loss: 0.0222 - accuracy: 0.9925 - val_loss: 0.0410 - val_accuracy: 0.9877\n",
      "Epoch 80/100\n",
      "11/11 [==============================] - 0s 20ms/step - loss: 0.0260 - accuracy: 0.9917 - val_loss: 0.0393 - val_accuracy: 0.9900\n",
      "Epoch 81/100\n",
      "11/11 [==============================] - 0s 20ms/step - loss: 0.0220 - accuracy: 0.9927 - val_loss: 0.0463 - val_accuracy: 0.9877\n",
      "Epoch 82/100\n",
      "11/11 [==============================] - 0s 20ms/step - loss: 0.0221 - accuracy: 0.9937 - val_loss: 0.0679 - val_accuracy: 0.9815\n",
      "Epoch 83/100\n",
      "11/11 [==============================] - 0s 25ms/step - loss: 0.0253 - accuracy: 0.9921 - val_loss: 0.0397 - val_accuracy: 0.9900\n",
      "Epoch 84/100\n",
      "11/11 [==============================] - 0s 20ms/step - loss: 0.0216 - accuracy: 0.9935 - val_loss: 0.0412 - val_accuracy: 0.9892\n",
      "Epoch 85/100\n",
      "11/11 [==============================] - 0s 20ms/step - loss: 0.0225 - accuracy: 0.9917 - val_loss: 0.0414 - val_accuracy: 0.9877\n",
      "Epoch 86/100\n",
      "11/11 [==============================] - 0s 20ms/step - loss: 0.0286 - accuracy: 0.9904 - val_loss: 0.0486 - val_accuracy: 0.9900\n",
      "Epoch 87/100\n",
      "11/11 [==============================] - 0s 21ms/step - loss: 0.0393 - accuracy: 0.9883 - val_loss: 0.0662 - val_accuracy: 0.9792\n",
      "Epoch 88/100\n",
      "11/11 [==============================] - 0s 20ms/step - loss: 0.0296 - accuracy: 0.9911 - val_loss: 0.0495 - val_accuracy: 0.9869\n",
      "Epoch 89/100\n",
      "11/11 [==============================] - 0s 20ms/step - loss: 0.0264 - accuracy: 0.9915 - val_loss: 0.0418 - val_accuracy: 0.9892\n",
      "Epoch 90/100\n",
      "11/11 [==============================] - 0s 22ms/step - loss: 0.0245 - accuracy: 0.9929 - val_loss: 0.0458 - val_accuracy: 0.9869\n",
      "Epoch 91/100\n",
      "11/11 [==============================] - 0s 19ms/step - loss: 0.0232 - accuracy: 0.9929 - val_loss: 0.0388 - val_accuracy: 0.9908\n",
      "Epoch 92/100\n",
      "11/11 [==============================] - 0s 21ms/step - loss: 0.0238 - accuracy: 0.9921 - val_loss: 0.0443 - val_accuracy: 0.9908\n",
      "Epoch 93/100\n",
      "11/11 [==============================] - 0s 19ms/step - loss: 0.0374 - accuracy: 0.9875 - val_loss: 0.0645 - val_accuracy: 0.9792\n",
      "Epoch 94/100\n",
      "11/11 [==============================] - 0s 23ms/step - loss: 0.0269 - accuracy: 0.9927 - val_loss: 0.0364 - val_accuracy: 0.9915\n",
      "Epoch 95/100\n",
      "11/11 [==============================] - 0s 20ms/step - loss: 0.0228 - accuracy: 0.9921 - val_loss: 0.0389 - val_accuracy: 0.9900\n",
      "Epoch 96/100\n",
      "11/11 [==============================] - 0s 21ms/step - loss: 0.0213 - accuracy: 0.9929 - val_loss: 0.0391 - val_accuracy: 0.9900\n",
      "Epoch 97/100\n",
      "11/11 [==============================] - 0s 19ms/step - loss: 0.0211 - accuracy: 0.9938 - val_loss: 0.0419 - val_accuracy: 0.9908\n",
      "Epoch 98/100\n",
      "11/11 [==============================] - 0s 20ms/step - loss: 0.0234 - accuracy: 0.9921 - val_loss: 0.0381 - val_accuracy: 0.9923\n",
      "Epoch 99/100\n",
      "11/11 [==============================] - 0s 19ms/step - loss: 0.0226 - accuracy: 0.9931 - val_loss: 0.0421 - val_accuracy: 0.9908\n",
      "Epoch 100/100\n",
      "11/11 [==============================] - 0s 19ms/step - loss: 0.0271 - accuracy: 0.9906 - val_loss: 0.0390 - val_accuracy: 0.9915\n"
     ]
    },
    {
     "data": {
      "text/plain": [
       "<keras.src.callbacks.History at 0x1f747d60d90>"
      ]
     },
     "execution_count": 59,
     "metadata": {},
     "output_type": "execute_result"
    }
   ],
   "source": [
    "model.fit(X_train_n, y_train_n, epochs=100, batch_size=512, validation_data=(X_test_n, y_test_n))"
   ]
  },
  {
   "cell_type": "code",
   "execution_count": 60,
   "metadata": {},
   "outputs": [
    {
     "name": "stdout",
     "output_type": "stream",
     "text": [
      "41/41 [==============================] - 0s 2ms/step - loss: 0.0390 - accuracy: 0.9915\n",
      "Test Loss: 0.0390\n",
      "Test Accuracy: 0.9915\n"
     ]
    }
   ],
   "source": [
    "loss, accuracy = model.evaluate(X_test_n, y_test_n)\n",
    "print(f\"Test Loss: {loss:.4f}\")\n",
    "print(f\"Test Accuracy: {accuracy:.4f}\")"
   ]
  }
 ],
 "metadata": {
  "kernelspec": {
   "display_name": "Python 3",
   "language": "python",
   "name": "python3"
  },
  "language_info": {
   "codemirror_mode": {
    "name": "ipython",
    "version": 3
   },
   "file_extension": ".py",
   "mimetype": "text/x-python",
   "name": "python",
   "nbconvert_exporter": "python",
   "pygments_lexer": "ipython3",
   "version": "3.11.5"
  }
 },
 "nbformat": 4,
 "nbformat_minor": 2
}
