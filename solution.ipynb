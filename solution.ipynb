{
 "cells": [
  {
   "cell_type": "code",
   "execution_count": 24,
   "metadata": {},
   "outputs": [],
   "source": [
    "import pandas as pd\n",
    "from sklearn.preprocessing import LabelEncoder\n",
    "from sklearn.naive_bayes import GaussianNB\n",
    "from sklearn.tree import DecisionTreeClassifier\n",
    "from sklearn.model_selection import train_test_split\n",
    "from sklearn.metrics import accuracy_score\n",
    "from sklearn.feature_selection import f_classif, SelectKBest\n",
    "from keras.models import Sequential\n",
    "from keras.layers import LSTM, Dense\n",
    "from sklearn.ensemble import AdaBoostClassifier\n",
    "from sklearn.neural_network import MLPClassifier\n",
    "import matplotlib.pyplot as plt"
   ]
  },
  {
   "cell_type": "markdown",
   "metadata": {},
   "source": [
    "## Read data file"
   ]
  },
  {
   "cell_type": "code",
   "execution_count": 3,
   "metadata": {},
   "outputs": [],
   "source": [
    "data = pd.read_csv('./wine.csv')"
   ]
  },
  {
   "cell_type": "markdown",
   "metadata": {},
   "source": [
    "## Preprocessing"
   ]
  },
  {
   "cell_type": "code",
   "execution_count": 4,
   "metadata": {},
   "outputs": [],
   "source": [
    "le =LabelEncoder()\n",
    "\n",
    "le.fit(data['color'])\n",
    "\n",
    "data['color']=le.transform(data['color'])\n"
   ]
  },
  {
   "cell_type": "markdown",
   "metadata": {},
   "source": [
    "## 2. Use simple model to solve problem"
   ]
  },
  {
   "cell_type": "code",
   "execution_count": 5,
   "metadata": {},
   "outputs": [],
   "source": [
    "X = data.drop('color', axis=1)\n",
    "y = data['color']"
   ]
  },
  {
   "cell_type": "code",
   "execution_count": 6,
   "metadata": {},
   "outputs": [],
   "source": [
    "X_train, X_test , y_train , y_test = train_test_split(X, y, test_size=0.25, random_state=42)"
   ]
  },
  {
   "cell_type": "markdown",
   "metadata": {},
   "source": [
    "### Gaussian Naive Bayes"
   ]
  },
  {
   "cell_type": "code",
   "execution_count": 7,
   "metadata": {},
   "outputs": [
    {
     "name": "stdout",
     "output_type": "stream",
     "text": [
      "accuracy :  0.9686153846153847\n"
     ]
    }
   ],
   "source": [
    "model = GaussianNB()\n",
    "\n",
    "model.fit(X_train, y_train)\n",
    "\n",
    "y_pred = model.predict(X_test)\n",
    "\n",
    "print(\"accuracy : \", accuracy_score(y_test, y_pred))\n"
   ]
  },
  {
   "cell_type": "markdown",
   "metadata": {},
   "source": [
    "### Decision Tree"
   ]
  },
  {
   "cell_type": "code",
   "execution_count": 9,
   "metadata": {},
   "outputs": [
    {
     "name": "stdout",
     "output_type": "stream",
     "text": [
      "accuracy :  0.9846153846153847\n"
     ]
    }
   ],
   "source": [
    "dt = DecisionTreeClassifier()\n",
    "\n",
    "dt.fit(X_train, y_train)\n",
    "\n",
    "y_pred = dt.predict(X_test)\n",
    "\n",
    "print(\"accuracy : \", accuracy_score(y_test, y_pred))"
   ]
  },
  {
   "cell_type": "markdown",
   "metadata": {},
   "source": [
    "## 3 . Neutral Network"
   ]
  },
  {
   "cell_type": "code",
   "execution_count": 37,
   "metadata": {},
   "outputs": [],
   "source": [
    "X_value = data.drop('color', axis=1).values\n",
    "y_value = data['color'].values"
   ]
  },
  {
   "cell_type": "code",
   "execution_count": 38,
   "metadata": {},
   "outputs": [],
   "source": [
    "X_train_n, X_test_n, y_train_n, y_test_n = train_test_split(X_value, y_value, test_size=0.2, random_state=42)"
   ]
  },
  {
   "cell_type": "code",
   "execution_count": 39,
   "metadata": {},
   "outputs": [],
   "source": [
    "X_train_n = X_train_n.reshape((X_train_n.shape[0], 1, X_train_n.shape[1]))\n",
    "X_test_n = X_test_n.reshape((X_test_n.shape[0], 1, X_test_n.shape[1]))"
   ]
  },
  {
   "cell_type": "markdown",
   "metadata": {},
   "source": [
    "### Feed Forward Neutral Network"
   ]
  },
  {
   "cell_type": "code",
   "execution_count": 26,
   "metadata": {},
   "outputs": [],
   "source": [
    "model = Sequential()\n",
    "model.add(Dense(32, activation='relu', input_dim=X_train.shape[1]))\n",
    "model.add(Dense(16, activation='relu'))\n",
    "model.add(Dense(1, activation='sigmoid'))\n"
   ]
  },
  {
   "cell_type": "code",
   "execution_count": 27,
   "metadata": {},
   "outputs": [],
   "source": [
    "model.compile(optimizer='adam', loss='binary_crossentropy', metrics=['accuracy'])"
   ]
  },
  {
   "cell_type": "code",
   "execution_count": 28,
   "metadata": {},
   "outputs": [
    {
     "name": "stdout",
     "output_type": "stream",
     "text": [
      "Epoch 1/200\n",
      "77/77 [==============================] - 1s 4ms/step - loss: 0.6678 - accuracy: 0.8754 - val_loss: 0.2516 - val_accuracy: 0.9225\n",
      "Epoch 2/200\n",
      "77/77 [==============================] - 0s 2ms/step - loss: 0.1987 - accuracy: 0.9323 - val_loss: 0.2147 - val_accuracy: 0.9237\n",
      "Epoch 3/200\n",
      "77/77 [==============================] - 0s 3ms/step - loss: 0.1836 - accuracy: 0.9345 - val_loss: 0.1961 - val_accuracy: 0.9305\n",
      "Epoch 4/200\n",
      "77/77 [==============================] - 0s 3ms/step - loss: 0.1776 - accuracy: 0.9374 - val_loss: 0.1880 - val_accuracy: 0.9342\n",
      "Epoch 5/200\n",
      "77/77 [==============================] - 0s 3ms/step - loss: 0.1706 - accuracy: 0.9378 - val_loss: 0.1812 - val_accuracy: 0.9391\n",
      "Epoch 6/200\n",
      "77/77 [==============================] - 0s 3ms/step - loss: 0.1622 - accuracy: 0.9464 - val_loss: 0.1748 - val_accuracy: 0.9323\n",
      "Epoch 7/200\n",
      "77/77 [==============================] - 0s 2ms/step - loss: 0.1566 - accuracy: 0.9436 - val_loss: 0.1703 - val_accuracy: 0.9471\n",
      "Epoch 8/200\n",
      "77/77 [==============================] - 0s 2ms/step - loss: 0.1482 - accuracy: 0.9485 - val_loss: 0.1567 - val_accuracy: 0.9465\n",
      "Epoch 9/200\n",
      "77/77 [==============================] - 0s 2ms/step - loss: 0.1374 - accuracy: 0.9499 - val_loss: 0.1532 - val_accuracy: 0.9391\n",
      "Epoch 10/200\n",
      "77/77 [==============================] - 0s 2ms/step - loss: 0.1302 - accuracy: 0.9565 - val_loss: 0.1492 - val_accuracy: 0.9409\n",
      "Epoch 11/200\n",
      "77/77 [==============================] - 0s 2ms/step - loss: 0.1250 - accuracy: 0.9563 - val_loss: 0.1400 - val_accuracy: 0.9594\n",
      "Epoch 12/200\n",
      "77/77 [==============================] - 0s 2ms/step - loss: 0.1213 - accuracy: 0.9575 - val_loss: 0.1555 - val_accuracy: 0.9606\n",
      "Epoch 13/200\n",
      "77/77 [==============================] - 0s 2ms/step - loss: 0.1154 - accuracy: 0.9624 - val_loss: 0.1271 - val_accuracy: 0.9538\n",
      "Epoch 14/200\n",
      "77/77 [==============================] - 0s 2ms/step - loss: 0.1142 - accuracy: 0.9635 - val_loss: 0.1227 - val_accuracy: 0.9612\n",
      "Epoch 15/200\n",
      "77/77 [==============================] - 0s 2ms/step - loss: 0.1063 - accuracy: 0.9633 - val_loss: 0.1228 - val_accuracy: 0.9612\n",
      "Epoch 16/200\n",
      "77/77 [==============================] - 0s 2ms/step - loss: 0.1010 - accuracy: 0.9667 - val_loss: 0.1111 - val_accuracy: 0.9649\n",
      "Epoch 17/200\n",
      "77/77 [==============================] - 0s 2ms/step - loss: 0.1048 - accuracy: 0.9655 - val_loss: 0.1114 - val_accuracy: 0.9649\n",
      "Epoch 18/200\n",
      "77/77 [==============================] - 0s 2ms/step - loss: 0.0973 - accuracy: 0.9694 - val_loss: 0.1063 - val_accuracy: 0.9655\n",
      "Epoch 19/200\n",
      "77/77 [==============================] - 0s 2ms/step - loss: 0.0919 - accuracy: 0.9711 - val_loss: 0.1014 - val_accuracy: 0.9686\n",
      "Epoch 20/200\n",
      "77/77 [==============================] - 0s 2ms/step - loss: 0.0991 - accuracy: 0.9682 - val_loss: 0.1035 - val_accuracy: 0.9674\n",
      "Epoch 21/200\n",
      "77/77 [==============================] - 0s 2ms/step - loss: 0.0989 - accuracy: 0.9680 - val_loss: 0.1001 - val_accuracy: 0.9680\n",
      "Epoch 22/200\n",
      "77/77 [==============================] - 0s 2ms/step - loss: 0.0835 - accuracy: 0.9754 - val_loss: 0.1057 - val_accuracy: 0.9631\n",
      "Epoch 23/200\n",
      "77/77 [==============================] - 0s 2ms/step - loss: 0.0795 - accuracy: 0.9778 - val_loss: 0.0915 - val_accuracy: 0.9705\n",
      "Epoch 24/200\n",
      "77/77 [==============================] - 0s 2ms/step - loss: 0.0797 - accuracy: 0.9743 - val_loss: 0.0890 - val_accuracy: 0.9729\n",
      "Epoch 25/200\n",
      "77/77 [==============================] - 0s 4ms/step - loss: 0.0789 - accuracy: 0.9754 - val_loss: 0.0972 - val_accuracy: 0.9698\n",
      "Epoch 26/200\n",
      "77/77 [==============================] - 1s 7ms/step - loss: 0.0815 - accuracy: 0.9760 - val_loss: 0.0877 - val_accuracy: 0.9723\n",
      "Epoch 27/200\n",
      "77/77 [==============================] - 0s 5ms/step - loss: 0.0728 - accuracy: 0.9787 - val_loss: 0.0891 - val_accuracy: 0.9742\n",
      "Epoch 28/200\n",
      "77/77 [==============================] - 0s 2ms/step - loss: 0.0742 - accuracy: 0.9780 - val_loss: 0.0846 - val_accuracy: 0.9742\n",
      "Epoch 29/200\n",
      "77/77 [==============================] - 0s 2ms/step - loss: 0.0737 - accuracy: 0.9780 - val_loss: 0.0828 - val_accuracy: 0.9754\n",
      "Epoch 30/200\n",
      "77/77 [==============================] - 0s 3ms/step - loss: 0.0682 - accuracy: 0.9817 - val_loss: 0.0822 - val_accuracy: 0.9754\n",
      "Epoch 31/200\n",
      "77/77 [==============================] - 0s 2ms/step - loss: 0.0665 - accuracy: 0.9813 - val_loss: 0.0897 - val_accuracy: 0.9698\n",
      "Epoch 32/200\n",
      "77/77 [==============================] - 0s 2ms/step - loss: 0.0670 - accuracy: 0.9811 - val_loss: 0.0834 - val_accuracy: 0.9735\n",
      "Epoch 33/200\n",
      "77/77 [==============================] - 0s 2ms/step - loss: 0.0659 - accuracy: 0.9821 - val_loss: 0.0774 - val_accuracy: 0.9754\n",
      "Epoch 34/200\n",
      "77/77 [==============================] - 0s 2ms/step - loss: 0.0637 - accuracy: 0.9817 - val_loss: 0.0776 - val_accuracy: 0.9742\n",
      "Epoch 35/200\n",
      "77/77 [==============================] - 0s 1ms/step - loss: 0.0708 - accuracy: 0.9782 - val_loss: 0.0769 - val_accuracy: 0.9772\n",
      "Epoch 36/200\n",
      "77/77 [==============================] - 0s 2ms/step - loss: 0.0613 - accuracy: 0.9826 - val_loss: 0.0741 - val_accuracy: 0.9742\n",
      "Epoch 37/200\n",
      "77/77 [==============================] - 0s 2ms/step - loss: 0.0681 - accuracy: 0.9815 - val_loss: 0.0857 - val_accuracy: 0.9742\n",
      "Epoch 38/200\n",
      "77/77 [==============================] - 0s 2ms/step - loss: 0.0634 - accuracy: 0.9826 - val_loss: 0.0738 - val_accuracy: 0.9766\n",
      "Epoch 39/200\n",
      "77/77 [==============================] - 0s 2ms/step - loss: 0.0602 - accuracy: 0.9836 - val_loss: 0.0739 - val_accuracy: 0.9772\n",
      "Epoch 40/200\n",
      "77/77 [==============================] - 0s 2ms/step - loss: 0.0603 - accuracy: 0.9838 - val_loss: 0.0786 - val_accuracy: 0.9760\n",
      "Epoch 41/200\n",
      "77/77 [==============================] - 0s 2ms/step - loss: 0.0634 - accuracy: 0.9823 - val_loss: 0.0736 - val_accuracy: 0.9791\n",
      "Epoch 42/200\n",
      "77/77 [==============================] - 0s 2ms/step - loss: 0.0601 - accuracy: 0.9840 - val_loss: 0.0873 - val_accuracy: 0.9717\n",
      "Epoch 43/200\n",
      "77/77 [==============================] - 0s 2ms/step - loss: 0.0586 - accuracy: 0.9838 - val_loss: 0.0729 - val_accuracy: 0.9778\n",
      "Epoch 44/200\n",
      "77/77 [==============================] - 0s 2ms/step - loss: 0.0588 - accuracy: 0.9828 - val_loss: 0.1031 - val_accuracy: 0.9692\n",
      "Epoch 45/200\n",
      "77/77 [==============================] - 0s 2ms/step - loss: 0.0587 - accuracy: 0.9836 - val_loss: 0.0732 - val_accuracy: 0.9791\n",
      "Epoch 46/200\n",
      "77/77 [==============================] - 0s 2ms/step - loss: 0.0545 - accuracy: 0.9854 - val_loss: 0.0861 - val_accuracy: 0.9729\n",
      "Epoch 47/200\n",
      "77/77 [==============================] - 0s 2ms/step - loss: 0.0603 - accuracy: 0.9821 - val_loss: 0.0796 - val_accuracy: 0.9735\n",
      "Epoch 48/200\n",
      "77/77 [==============================] - 0s 2ms/step - loss: 0.0606 - accuracy: 0.9809 - val_loss: 0.0695 - val_accuracy: 0.9809\n",
      "Epoch 49/200\n",
      "77/77 [==============================] - 0s 2ms/step - loss: 0.0584 - accuracy: 0.9828 - val_loss: 0.0785 - val_accuracy: 0.9729\n",
      "Epoch 50/200\n",
      "77/77 [==============================] - 0s 2ms/step - loss: 0.0588 - accuracy: 0.9830 - val_loss: 0.0719 - val_accuracy: 0.9815\n",
      "Epoch 51/200\n",
      "77/77 [==============================] - 0s 2ms/step - loss: 0.0567 - accuracy: 0.9842 - val_loss: 0.0799 - val_accuracy: 0.9742\n",
      "Epoch 52/200\n",
      "77/77 [==============================] - 0s 2ms/step - loss: 0.0557 - accuracy: 0.9846 - val_loss: 0.0678 - val_accuracy: 0.9809\n",
      "Epoch 53/200\n",
      "77/77 [==============================] - 0s 2ms/step - loss: 0.0543 - accuracy: 0.9844 - val_loss: 0.0851 - val_accuracy: 0.9748\n",
      "Epoch 54/200\n",
      "77/77 [==============================] - 0s 2ms/step - loss: 0.0584 - accuracy: 0.9826 - val_loss: 0.0666 - val_accuracy: 0.9809\n",
      "Epoch 55/200\n",
      "77/77 [==============================] - 0s 2ms/step - loss: 0.0514 - accuracy: 0.9856 - val_loss: 0.0688 - val_accuracy: 0.9803\n",
      "Epoch 56/200\n",
      "77/77 [==============================] - 0s 2ms/step - loss: 0.0511 - accuracy: 0.9865 - val_loss: 0.0650 - val_accuracy: 0.9815\n",
      "Epoch 57/200\n",
      "77/77 [==============================] - 0s 2ms/step - loss: 0.0556 - accuracy: 0.9834 - val_loss: 0.0647 - val_accuracy: 0.9815\n",
      "Epoch 58/200\n",
      "77/77 [==============================] - 0s 2ms/step - loss: 0.0523 - accuracy: 0.9858 - val_loss: 0.0732 - val_accuracy: 0.9754\n",
      "Epoch 59/200\n",
      "77/77 [==============================] - 0s 2ms/step - loss: 0.0505 - accuracy: 0.9858 - val_loss: 0.0724 - val_accuracy: 0.9791\n",
      "Epoch 60/200\n",
      "77/77 [==============================] - 0s 2ms/step - loss: 0.0554 - accuracy: 0.9826 - val_loss: 0.0752 - val_accuracy: 0.9748\n",
      "Epoch 61/200\n",
      "77/77 [==============================] - 0s 2ms/step - loss: 0.0500 - accuracy: 0.9860 - val_loss: 0.0716 - val_accuracy: 0.9785\n",
      "Epoch 62/200\n",
      "77/77 [==============================] - 0s 2ms/step - loss: 0.0523 - accuracy: 0.9848 - val_loss: 0.0637 - val_accuracy: 0.9834\n",
      "Epoch 63/200\n",
      "77/77 [==============================] - 0s 2ms/step - loss: 0.0498 - accuracy: 0.9862 - val_loss: 0.0653 - val_accuracy: 0.9785\n",
      "Epoch 64/200\n",
      "77/77 [==============================] - 0s 2ms/step - loss: 0.0505 - accuracy: 0.9871 - val_loss: 0.0779 - val_accuracy: 0.9742\n",
      "Epoch 65/200\n",
      "77/77 [==============================] - 0s 2ms/step - loss: 0.0494 - accuracy: 0.9860 - val_loss: 0.0626 - val_accuracy: 0.9797\n",
      "Epoch 66/200\n",
      "77/77 [==============================] - 0s 2ms/step - loss: 0.0526 - accuracy: 0.9856 - val_loss: 0.0615 - val_accuracy: 0.9828\n",
      "Epoch 67/200\n",
      "77/77 [==============================] - 0s 2ms/step - loss: 0.0481 - accuracy: 0.9860 - val_loss: 0.0648 - val_accuracy: 0.9809\n",
      "Epoch 68/200\n",
      "77/77 [==============================] - 0s 2ms/step - loss: 0.0503 - accuracy: 0.9858 - val_loss: 0.0631 - val_accuracy: 0.9815\n",
      "Epoch 69/200\n",
      "77/77 [==============================] - 0s 2ms/step - loss: 0.0544 - accuracy: 0.9871 - val_loss: 0.0634 - val_accuracy: 0.9834\n",
      "Epoch 70/200\n",
      "77/77 [==============================] - 0s 2ms/step - loss: 0.0474 - accuracy: 0.9873 - val_loss: 0.0629 - val_accuracy: 0.9828\n",
      "Epoch 71/200\n",
      "77/77 [==============================] - 0s 2ms/step - loss: 0.0485 - accuracy: 0.9869 - val_loss: 0.0598 - val_accuracy: 0.9828\n",
      "Epoch 72/200\n",
      "77/77 [==============================] - 0s 2ms/step - loss: 0.0472 - accuracy: 0.9869 - val_loss: 0.0684 - val_accuracy: 0.9803\n",
      "Epoch 73/200\n",
      "77/77 [==============================] - 0s 2ms/step - loss: 0.0467 - accuracy: 0.9875 - val_loss: 0.0593 - val_accuracy: 0.9815\n",
      "Epoch 74/200\n",
      "77/77 [==============================] - 0s 2ms/step - loss: 0.0460 - accuracy: 0.9867 - val_loss: 0.0591 - val_accuracy: 0.9815\n",
      "Epoch 75/200\n",
      "77/77 [==============================] - 0s 2ms/step - loss: 0.0449 - accuracy: 0.9887 - val_loss: 0.0612 - val_accuracy: 0.9822\n",
      "Epoch 76/200\n",
      "77/77 [==============================] - 0s 2ms/step - loss: 0.0471 - accuracy: 0.9871 - val_loss: 0.0607 - val_accuracy: 0.9840\n",
      "Epoch 77/200\n",
      "77/77 [==============================] - 0s 2ms/step - loss: 0.0487 - accuracy: 0.9871 - val_loss: 0.0604 - val_accuracy: 0.9822\n",
      "Epoch 78/200\n",
      "77/77 [==============================] - 0s 2ms/step - loss: 0.0501 - accuracy: 0.9858 - val_loss: 0.0616 - val_accuracy: 0.9822\n",
      "Epoch 79/200\n",
      "77/77 [==============================] - 0s 2ms/step - loss: 0.0461 - accuracy: 0.9883 - val_loss: 0.0620 - val_accuracy: 0.9815\n",
      "Epoch 80/200\n",
      "77/77 [==============================] - 0s 2ms/step - loss: 0.0460 - accuracy: 0.9877 - val_loss: 0.0592 - val_accuracy: 0.9846\n",
      "Epoch 81/200\n",
      "77/77 [==============================] - 0s 2ms/step - loss: 0.0488 - accuracy: 0.9871 - val_loss: 0.0694 - val_accuracy: 0.9803\n",
      "Epoch 82/200\n",
      "77/77 [==============================] - 0s 2ms/step - loss: 0.0491 - accuracy: 0.9862 - val_loss: 0.0618 - val_accuracy: 0.9828\n",
      "Epoch 83/200\n",
      "77/77 [==============================] - 0s 2ms/step - loss: 0.0463 - accuracy: 0.9871 - val_loss: 0.0647 - val_accuracy: 0.9834\n",
      "Epoch 84/200\n",
      "77/77 [==============================] - 0s 2ms/step - loss: 0.0452 - accuracy: 0.9877 - val_loss: 0.0606 - val_accuracy: 0.9809\n",
      "Epoch 85/200\n",
      "77/77 [==============================] - 0s 2ms/step - loss: 0.0449 - accuracy: 0.9881 - val_loss: 0.0616 - val_accuracy: 0.9840\n",
      "Epoch 86/200\n",
      "77/77 [==============================] - 0s 2ms/step - loss: 0.0456 - accuracy: 0.9869 - val_loss: 0.0598 - val_accuracy: 0.9846\n",
      "Epoch 87/200\n",
      "77/77 [==============================] - 0s 2ms/step - loss: 0.0443 - accuracy: 0.9879 - val_loss: 0.0704 - val_accuracy: 0.9772\n",
      "Epoch 88/200\n",
      "77/77 [==============================] - 0s 2ms/step - loss: 0.0470 - accuracy: 0.9877 - val_loss: 0.0620 - val_accuracy: 0.9815\n",
      "Epoch 89/200\n",
      "77/77 [==============================] - 0s 1ms/step - loss: 0.0464 - accuracy: 0.9887 - val_loss: 0.0575 - val_accuracy: 0.9828\n",
      "Epoch 90/200\n",
      "77/77 [==============================] - 0s 2ms/step - loss: 0.0470 - accuracy: 0.9873 - val_loss: 0.0604 - val_accuracy: 0.9822\n",
      "Epoch 91/200\n",
      "77/77 [==============================] - 0s 2ms/step - loss: 0.0445 - accuracy: 0.9881 - val_loss: 0.0578 - val_accuracy: 0.9834\n",
      "Epoch 92/200\n",
      "77/77 [==============================] - 0s 2ms/step - loss: 0.0432 - accuracy: 0.9887 - val_loss: 0.0716 - val_accuracy: 0.9803\n",
      "Epoch 93/200\n",
      "77/77 [==============================] - 0s 2ms/step - loss: 0.0439 - accuracy: 0.9887 - val_loss: 0.0721 - val_accuracy: 0.9760\n",
      "Epoch 94/200\n",
      "77/77 [==============================] - 0s 3ms/step - loss: 0.0501 - accuracy: 0.9867 - val_loss: 0.0593 - val_accuracy: 0.9858\n",
      "Epoch 95/200\n",
      "77/77 [==============================] - 0s 3ms/step - loss: 0.0464 - accuracy: 0.9877 - val_loss: 0.0583 - val_accuracy: 0.9828\n",
      "Epoch 96/200\n",
      "77/77 [==============================] - 0s 4ms/step - loss: 0.0449 - accuracy: 0.9881 - val_loss: 0.0571 - val_accuracy: 0.9852\n",
      "Epoch 97/200\n",
      "77/77 [==============================] - 0s 2ms/step - loss: 0.0453 - accuracy: 0.9867 - val_loss: 0.0615 - val_accuracy: 0.9815\n",
      "Epoch 98/200\n",
      "77/77 [==============================] - 0s 2ms/step - loss: 0.0422 - accuracy: 0.9889 - val_loss: 0.0664 - val_accuracy: 0.9803\n",
      "Epoch 99/200\n",
      "77/77 [==============================] - 0s 2ms/step - loss: 0.0502 - accuracy: 0.9854 - val_loss: 0.0625 - val_accuracy: 0.9822\n",
      "Epoch 100/200\n",
      "77/77 [==============================] - 0s 2ms/step - loss: 0.0424 - accuracy: 0.9883 - val_loss: 0.0556 - val_accuracy: 0.9858\n",
      "Epoch 101/200\n",
      "77/77 [==============================] - 0s 2ms/step - loss: 0.0448 - accuracy: 0.9897 - val_loss: 0.0585 - val_accuracy: 0.9828\n",
      "Epoch 102/200\n",
      "77/77 [==============================] - 0s 2ms/step - loss: 0.0419 - accuracy: 0.9887 - val_loss: 0.0608 - val_accuracy: 0.9846\n",
      "Epoch 103/200\n",
      "77/77 [==============================] - 0s 2ms/step - loss: 0.0444 - accuracy: 0.9891 - val_loss: 0.0561 - val_accuracy: 0.9846\n",
      "Epoch 104/200\n",
      "77/77 [==============================] - 0s 2ms/step - loss: 0.0422 - accuracy: 0.9893 - val_loss: 0.0585 - val_accuracy: 0.9834\n",
      "Epoch 105/200\n",
      "77/77 [==============================] - 0s 2ms/step - loss: 0.0500 - accuracy: 0.9852 - val_loss: 0.0554 - val_accuracy: 0.9871\n",
      "Epoch 106/200\n",
      "77/77 [==============================] - 0s 2ms/step - loss: 0.0436 - accuracy: 0.9883 - val_loss: 0.0624 - val_accuracy: 0.9834\n",
      "Epoch 107/200\n",
      "77/77 [==============================] - 0s 2ms/step - loss: 0.0417 - accuracy: 0.9895 - val_loss: 0.0562 - val_accuracy: 0.9840\n",
      "Epoch 108/200\n",
      "77/77 [==============================] - 0s 2ms/step - loss: 0.0433 - accuracy: 0.9879 - val_loss: 0.0578 - val_accuracy: 0.9846\n",
      "Epoch 109/200\n",
      "77/77 [==============================] - 0s 2ms/step - loss: 0.0406 - accuracy: 0.9910 - val_loss: 0.0557 - val_accuracy: 0.9871\n",
      "Epoch 110/200\n",
      "77/77 [==============================] - 0s 2ms/step - loss: 0.0403 - accuracy: 0.9883 - val_loss: 0.0590 - val_accuracy: 0.9828\n",
      "Epoch 111/200\n",
      "77/77 [==============================] - 0s 3ms/step - loss: 0.0408 - accuracy: 0.9897 - val_loss: 0.0589 - val_accuracy: 0.9846\n",
      "Epoch 112/200\n",
      "77/77 [==============================] - 0s 2ms/step - loss: 0.0422 - accuracy: 0.9885 - val_loss: 0.0563 - val_accuracy: 0.9846\n",
      "Epoch 113/200\n",
      "77/77 [==============================] - 0s 1ms/step - loss: 0.0445 - accuracy: 0.9873 - val_loss: 0.0579 - val_accuracy: 0.9834\n",
      "Epoch 114/200\n",
      "77/77 [==============================] - 0s 2ms/step - loss: 0.0407 - accuracy: 0.9893 - val_loss: 0.0594 - val_accuracy: 0.9834\n",
      "Epoch 115/200\n",
      "77/77 [==============================] - 0s 2ms/step - loss: 0.0436 - accuracy: 0.9879 - val_loss: 0.0549 - val_accuracy: 0.9852\n",
      "Epoch 116/200\n",
      "77/77 [==============================] - 0s 2ms/step - loss: 0.0461 - accuracy: 0.9867 - val_loss: 0.0590 - val_accuracy: 0.9840\n",
      "Epoch 117/200\n",
      "77/77 [==============================] - 0s 2ms/step - loss: 0.0421 - accuracy: 0.9883 - val_loss: 0.0588 - val_accuracy: 0.9877\n",
      "Epoch 118/200\n",
      "77/77 [==============================] - 0s 1ms/step - loss: 0.0438 - accuracy: 0.9895 - val_loss: 0.0541 - val_accuracy: 0.9840\n",
      "Epoch 119/200\n",
      "77/77 [==============================] - 0s 1ms/step - loss: 0.0441 - accuracy: 0.9881 - val_loss: 0.0574 - val_accuracy: 0.9846\n",
      "Epoch 120/200\n",
      "77/77 [==============================] - 0s 1ms/step - loss: 0.0410 - accuracy: 0.9895 - val_loss: 0.0596 - val_accuracy: 0.9865\n",
      "Epoch 121/200\n",
      "77/77 [==============================] - 0s 1ms/step - loss: 0.0461 - accuracy: 0.9881 - val_loss: 0.0634 - val_accuracy: 0.9815\n",
      "Epoch 122/200\n",
      "77/77 [==============================] - 0s 1ms/step - loss: 0.0432 - accuracy: 0.9893 - val_loss: 0.0547 - val_accuracy: 0.9865\n",
      "Epoch 123/200\n",
      "77/77 [==============================] - 0s 3ms/step - loss: 0.0409 - accuracy: 0.9899 - val_loss: 0.0615 - val_accuracy: 0.9822\n",
      "Epoch 124/200\n",
      "77/77 [==============================] - 0s 5ms/step - loss: 0.0416 - accuracy: 0.9899 - val_loss: 0.0564 - val_accuracy: 0.9822\n",
      "Epoch 125/200\n",
      "77/77 [==============================] - 0s 3ms/step - loss: 0.0416 - accuracy: 0.9895 - val_loss: 0.0626 - val_accuracy: 0.9828\n",
      "Epoch 126/200\n",
      "77/77 [==============================] - 0s 2ms/step - loss: 0.0413 - accuracy: 0.9889 - val_loss: 0.0587 - val_accuracy: 0.9846\n",
      "Epoch 127/200\n",
      "77/77 [==============================] - 0s 3ms/step - loss: 0.0412 - accuracy: 0.9877 - val_loss: 0.0556 - val_accuracy: 0.9858\n",
      "Epoch 128/200\n",
      "77/77 [==============================] - 0s 2ms/step - loss: 0.0424 - accuracy: 0.9889 - val_loss: 0.0519 - val_accuracy: 0.9858\n",
      "Epoch 129/200\n",
      "77/77 [==============================] - 0s 2ms/step - loss: 0.0517 - accuracy: 0.9860 - val_loss: 0.0577 - val_accuracy: 0.9852\n",
      "Epoch 130/200\n",
      "77/77 [==============================] - 0s 2ms/step - loss: 0.0410 - accuracy: 0.9897 - val_loss: 0.0641 - val_accuracy: 0.9828\n",
      "Epoch 131/200\n",
      "77/77 [==============================] - 0s 2ms/step - loss: 0.0422 - accuracy: 0.9883 - val_loss: 0.0569 - val_accuracy: 0.9852\n",
      "Epoch 132/200\n",
      "77/77 [==============================] - 0s 2ms/step - loss: 0.0438 - accuracy: 0.9883 - val_loss: 0.0602 - val_accuracy: 0.9828\n",
      "Epoch 133/200\n",
      "77/77 [==============================] - 0s 2ms/step - loss: 0.0398 - accuracy: 0.9893 - val_loss: 0.0533 - val_accuracy: 0.9852\n",
      "Epoch 134/200\n",
      "77/77 [==============================] - 0s 2ms/step - loss: 0.0402 - accuracy: 0.9887 - val_loss: 0.0574 - val_accuracy: 0.9840\n",
      "Epoch 135/200\n",
      "77/77 [==============================] - 0s 2ms/step - loss: 0.0422 - accuracy: 0.9887 - val_loss: 0.0538 - val_accuracy: 0.9852\n",
      "Epoch 136/200\n",
      "77/77 [==============================] - 0s 2ms/step - loss: 0.0418 - accuracy: 0.9897 - val_loss: 0.0543 - val_accuracy: 0.9858\n",
      "Epoch 137/200\n",
      "77/77 [==============================] - 0s 2ms/step - loss: 0.0405 - accuracy: 0.9887 - val_loss: 0.0624 - val_accuracy: 0.9865\n",
      "Epoch 138/200\n",
      "77/77 [==============================] - 0s 2ms/step - loss: 0.0393 - accuracy: 0.9895 - val_loss: 0.0557 - val_accuracy: 0.9852\n",
      "Epoch 139/200\n",
      "77/77 [==============================] - 0s 2ms/step - loss: 0.0443 - accuracy: 0.9877 - val_loss: 0.0563 - val_accuracy: 0.9858\n",
      "Epoch 140/200\n",
      "77/77 [==============================] - 0s 2ms/step - loss: 0.0454 - accuracy: 0.9881 - val_loss: 0.0540 - val_accuracy: 0.9877\n",
      "Epoch 141/200\n",
      "77/77 [==============================] - 0s 2ms/step - loss: 0.0401 - accuracy: 0.9895 - val_loss: 0.0742 - val_accuracy: 0.9766\n",
      "Epoch 142/200\n",
      "77/77 [==============================] - 0s 2ms/step - loss: 0.0430 - accuracy: 0.9889 - val_loss: 0.0515 - val_accuracy: 0.9865\n",
      "Epoch 143/200\n",
      "77/77 [==============================] - 0s 1ms/step - loss: 0.0385 - accuracy: 0.9897 - val_loss: 0.0552 - val_accuracy: 0.9865\n",
      "Epoch 144/200\n",
      "77/77 [==============================] - 0s 2ms/step - loss: 0.0382 - accuracy: 0.9901 - val_loss: 0.0519 - val_accuracy: 0.9871\n",
      "Epoch 145/200\n",
      "77/77 [==============================] - 0s 2ms/step - loss: 0.0388 - accuracy: 0.9895 - val_loss: 0.0513 - val_accuracy: 0.9871\n",
      "Epoch 146/200\n",
      "77/77 [==============================] - 0s 2ms/step - loss: 0.0420 - accuracy: 0.9877 - val_loss: 0.0522 - val_accuracy: 0.9865\n",
      "Epoch 147/200\n",
      "77/77 [==============================] - 0s 2ms/step - loss: 0.0428 - accuracy: 0.9889 - val_loss: 0.0560 - val_accuracy: 0.9865\n",
      "Epoch 148/200\n",
      "77/77 [==============================] - 0s 2ms/step - loss: 0.0410 - accuracy: 0.9887 - val_loss: 0.0525 - val_accuracy: 0.9858\n",
      "Epoch 149/200\n",
      "77/77 [==============================] - 0s 2ms/step - loss: 0.0427 - accuracy: 0.9889 - val_loss: 0.0605 - val_accuracy: 0.9815\n",
      "Epoch 150/200\n",
      "77/77 [==============================] - 0s 2ms/step - loss: 0.0393 - accuracy: 0.9899 - val_loss: 0.0511 - val_accuracy: 0.9871\n",
      "Epoch 151/200\n",
      "77/77 [==============================] - 0s 2ms/step - loss: 0.0420 - accuracy: 0.9881 - val_loss: 0.0579 - val_accuracy: 0.9834\n",
      "Epoch 152/200\n",
      "77/77 [==============================] - 0s 2ms/step - loss: 0.0423 - accuracy: 0.9875 - val_loss: 0.0561 - val_accuracy: 0.9834\n",
      "Epoch 153/200\n",
      "77/77 [==============================] - 0s 2ms/step - loss: 0.0374 - accuracy: 0.9908 - val_loss: 0.0507 - val_accuracy: 0.9852\n",
      "Epoch 154/200\n",
      "77/77 [==============================] - 0s 2ms/step - loss: 0.0388 - accuracy: 0.9899 - val_loss: 0.0551 - val_accuracy: 0.9840\n",
      "Epoch 155/200\n",
      "77/77 [==============================] - 0s 2ms/step - loss: 0.0418 - accuracy: 0.9867 - val_loss: 0.0596 - val_accuracy: 0.9834\n",
      "Epoch 156/200\n",
      "77/77 [==============================] - 0s 2ms/step - loss: 0.0369 - accuracy: 0.9899 - val_loss: 0.0751 - val_accuracy: 0.9754\n",
      "Epoch 157/200\n",
      "77/77 [==============================] - 0s 2ms/step - loss: 0.0413 - accuracy: 0.9899 - val_loss: 0.0925 - val_accuracy: 0.9735\n",
      "Epoch 158/200\n",
      "77/77 [==============================] - 0s 2ms/step - loss: 0.0402 - accuracy: 0.9899 - val_loss: 0.0650 - val_accuracy: 0.9797\n",
      "Epoch 159/200\n",
      "77/77 [==============================] - 0s 2ms/step - loss: 0.0394 - accuracy: 0.9899 - val_loss: 0.0578 - val_accuracy: 0.9846\n",
      "Epoch 160/200\n",
      "77/77 [==============================] - 0s 2ms/step - loss: 0.0390 - accuracy: 0.9889 - val_loss: 0.0534 - val_accuracy: 0.9852\n",
      "Epoch 161/200\n",
      "77/77 [==============================] - 0s 2ms/step - loss: 0.0380 - accuracy: 0.9893 - val_loss: 0.0555 - val_accuracy: 0.9871\n",
      "Epoch 162/200\n",
      "77/77 [==============================] - 0s 2ms/step - loss: 0.0385 - accuracy: 0.9908 - val_loss: 0.0546 - val_accuracy: 0.9846\n",
      "Epoch 163/200\n",
      "77/77 [==============================] - 0s 2ms/step - loss: 0.0370 - accuracy: 0.9908 - val_loss: 0.0531 - val_accuracy: 0.9871\n",
      "Epoch 164/200\n",
      "77/77 [==============================] - 0s 2ms/step - loss: 0.0379 - accuracy: 0.9901 - val_loss: 0.0528 - val_accuracy: 0.9858\n",
      "Epoch 165/200\n",
      "77/77 [==============================] - 0s 2ms/step - loss: 0.0434 - accuracy: 0.9877 - val_loss: 0.0627 - val_accuracy: 0.9846\n",
      "Epoch 166/200\n",
      "77/77 [==============================] - 0s 4ms/step - loss: 0.0379 - accuracy: 0.9889 - val_loss: 0.0769 - val_accuracy: 0.9760\n",
      "Epoch 167/200\n",
      "77/77 [==============================] - 0s 3ms/step - loss: 0.0379 - accuracy: 0.9904 - val_loss: 0.0504 - val_accuracy: 0.9865\n",
      "Epoch 168/200\n",
      "77/77 [==============================] - 0s 2ms/step - loss: 0.0390 - accuracy: 0.9901 - val_loss: 0.0538 - val_accuracy: 0.9858\n",
      "Epoch 169/200\n",
      "77/77 [==============================] - 0s 2ms/step - loss: 0.0382 - accuracy: 0.9895 - val_loss: 0.0527 - val_accuracy: 0.9877\n",
      "Epoch 170/200\n",
      "77/77 [==============================] - 0s 2ms/step - loss: 0.0370 - accuracy: 0.9910 - val_loss: 0.0580 - val_accuracy: 0.9852\n",
      "Epoch 171/200\n",
      "77/77 [==============================] - 0s 2ms/step - loss: 0.0377 - accuracy: 0.9891 - val_loss: 0.0509 - val_accuracy: 0.9865\n",
      "Epoch 172/200\n",
      "77/77 [==============================] - 0s 2ms/step - loss: 0.0369 - accuracy: 0.9904 - val_loss: 0.0518 - val_accuracy: 0.9865\n",
      "Epoch 173/200\n",
      "77/77 [==============================] - 0s 2ms/step - loss: 0.0380 - accuracy: 0.9904 - val_loss: 0.0541 - val_accuracy: 0.9865\n",
      "Epoch 174/200\n",
      "77/77 [==============================] - 0s 2ms/step - loss: 0.0408 - accuracy: 0.9895 - val_loss: 0.0507 - val_accuracy: 0.9871\n",
      "Epoch 175/200\n",
      "77/77 [==============================] - 0s 2ms/step - loss: 0.0409 - accuracy: 0.9897 - val_loss: 0.0525 - val_accuracy: 0.9865\n",
      "Epoch 176/200\n",
      "77/77 [==============================] - 0s 2ms/step - loss: 0.0355 - accuracy: 0.9904 - val_loss: 0.0495 - val_accuracy: 0.9877\n",
      "Epoch 177/200\n",
      "77/77 [==============================] - 0s 2ms/step - loss: 0.0386 - accuracy: 0.9912 - val_loss: 0.0517 - val_accuracy: 0.9865\n",
      "Epoch 178/200\n",
      "77/77 [==============================] - 0s 2ms/step - loss: 0.0370 - accuracy: 0.9910 - val_loss: 0.0556 - val_accuracy: 0.9840\n",
      "Epoch 179/200\n",
      "77/77 [==============================] - 0s 2ms/step - loss: 0.0361 - accuracy: 0.9908 - val_loss: 0.0483 - val_accuracy: 0.9846\n",
      "Epoch 180/200\n",
      "77/77 [==============================] - 0s 2ms/step - loss: 0.0406 - accuracy: 0.9891 - val_loss: 0.0531 - val_accuracy: 0.9858\n",
      "Epoch 181/200\n",
      "77/77 [==============================] - 0s 2ms/step - loss: 0.0370 - accuracy: 0.9897 - val_loss: 0.0495 - val_accuracy: 0.9852\n",
      "Epoch 182/200\n",
      "77/77 [==============================] - 0s 2ms/step - loss: 0.0360 - accuracy: 0.9901 - val_loss: 0.0496 - val_accuracy: 0.9871\n",
      "Epoch 183/200\n",
      "77/77 [==============================] - 0s 2ms/step - loss: 0.0353 - accuracy: 0.9906 - val_loss: 0.0493 - val_accuracy: 0.9883\n",
      "Epoch 184/200\n",
      "77/77 [==============================] - 0s 2ms/step - loss: 0.0419 - accuracy: 0.9893 - val_loss: 0.0482 - val_accuracy: 0.9877\n",
      "Epoch 185/200\n",
      "77/77 [==============================] - 0s 2ms/step - loss: 0.0387 - accuracy: 0.9904 - val_loss: 0.0483 - val_accuracy: 0.9877\n",
      "Epoch 186/200\n",
      "77/77 [==============================] - 0s 2ms/step - loss: 0.0371 - accuracy: 0.9887 - val_loss: 0.0736 - val_accuracy: 0.9748\n",
      "Epoch 187/200\n",
      "77/77 [==============================] - 0s 2ms/step - loss: 0.0400 - accuracy: 0.9871 - val_loss: 0.0495 - val_accuracy: 0.9883\n",
      "Epoch 188/200\n",
      "77/77 [==============================] - 0s 2ms/step - loss: 0.0360 - accuracy: 0.9908 - val_loss: 0.0474 - val_accuracy: 0.9889\n",
      "Epoch 189/200\n",
      "77/77 [==============================] - 0s 2ms/step - loss: 0.0370 - accuracy: 0.9891 - val_loss: 0.0478 - val_accuracy: 0.9889\n",
      "Epoch 190/200\n",
      "77/77 [==============================] - 0s 2ms/step - loss: 0.0410 - accuracy: 0.9895 - val_loss: 0.0692 - val_accuracy: 0.9803\n",
      "Epoch 191/200\n",
      "77/77 [==============================] - 0s 2ms/step - loss: 0.0436 - accuracy: 0.9877 - val_loss: 0.0482 - val_accuracy: 0.9883\n",
      "Epoch 192/200\n",
      "77/77 [==============================] - 0s 2ms/step - loss: 0.0356 - accuracy: 0.9889 - val_loss: 0.0490 - val_accuracy: 0.9883\n",
      "Epoch 193/200\n",
      "77/77 [==============================] - 0s 2ms/step - loss: 0.0355 - accuracy: 0.9908 - val_loss: 0.0480 - val_accuracy: 0.9865\n",
      "Epoch 194/200\n",
      "77/77 [==============================] - 0s 2ms/step - loss: 0.0350 - accuracy: 0.9899 - val_loss: 0.0576 - val_accuracy: 0.9840\n",
      "Epoch 195/200\n",
      "77/77 [==============================] - 0s 2ms/step - loss: 0.0347 - accuracy: 0.9914 - val_loss: 0.0472 - val_accuracy: 0.9871\n",
      "Epoch 196/200\n",
      "77/77 [==============================] - 0s 2ms/step - loss: 0.0352 - accuracy: 0.9908 - val_loss: 0.0522 - val_accuracy: 0.9877\n",
      "Epoch 197/200\n",
      "77/77 [==============================] - 0s 2ms/step - loss: 0.0365 - accuracy: 0.9899 - val_loss: 0.0510 - val_accuracy: 0.9871\n",
      "Epoch 198/200\n",
      "77/77 [==============================] - 0s 2ms/step - loss: 0.0373 - accuracy: 0.9910 - val_loss: 0.0497 - val_accuracy: 0.9871\n",
      "Epoch 199/200\n",
      "77/77 [==============================] - 0s 2ms/step - loss: 0.0349 - accuracy: 0.9908 - val_loss: 0.0478 - val_accuracy: 0.9877\n",
      "Epoch 200/200\n",
      "77/77 [==============================] - 0s 2ms/step - loss: 0.0345 - accuracy: 0.9908 - val_loss: 0.0529 - val_accuracy: 0.9834\n"
     ]
    }
   ],
   "source": [
    "history = model.fit(X_train, y_train, validation_data=(X_test, y_test), epochs=200, batch_size=64)"
   ]
  },
  {
   "cell_type": "code",
   "execution_count": 29,
   "metadata": {},
   "outputs": [],
   "source": [
    "accuracy = history.history['accuracy']\n",
    "val_accuracy = history.history['val_accuracy']\n",
    "loss = history.history['loss']\n",
    "val_loss = history.history['val_loss']\n",
    "epochs = range(len(accuracy))\n"
   ]
  },
  {
   "cell_type": "code",
   "execution_count": 30,
   "metadata": {},
   "outputs": [
    {
     "data": {
      "image/png": "[encoded data removed]",
      "text/plain": [
       "<Figure size 640x480 with 1 Axes>"
      ]
     },
     "metadata": {},
     "output_type": "display_data"
    }
   ],
   "source": [
    "plt.plot(epochs, accuracy, 'b', label='Training accuracy')\n",
    "plt.plot(epochs, val_accuracy, 'r', label='Validation accuracy')\n",
    "plt.title('Training and Validation Accuracy')\n",
    "plt.xlabel('Epochs')\n",
    "plt.ylabel('Accuracy')\n",
    "plt.legend()\n",
    "plt.show()"
   ]
  },
  {
   "cell_type": "markdown",
   "metadata": {},
   "source": [
    "### Recurrent Neutral Network"
   ]
  },
  {
   "cell_type": "code",
   "execution_count": 40,
   "metadata": {},
   "outputs": [],
   "source": [
    "model = Sequential()\n",
    "model.add(LSTM(128, input_shape=(X_train_n.shape[1], X_train_n.shape[2]), return_sequences=True))\n",
    "model.add(LSTM(128, return_sequences=True))\n",
    "model.add(LSTM(64))\n",
    "model.add(Dense(2, activation='softmax'))"
   ]
  },
  {
   "cell_type": "code",
   "execution_count": 41,
   "metadata": {},
   "outputs": [],
   "source": [
    "model.compile(loss='sparse_categorical_crossentropy', optimizer='adam', metrics=['accuracy'])"
   ]
  },
  {
   "cell_type": "code",
   "execution_count": 42,
   "metadata": {},
   "outputs": [
    {
     "name": "stdout",
     "output_type": "stream",
     "text": [
      "Epoch 1/50\n",
      "82/82 [==============================] - 5s 18ms/step - loss: 0.2809 - accuracy: 0.8901 - val_loss: 0.2022 - val_accuracy: 0.9269\n",
      "Epoch 2/50\n",
      "82/82 [==============================] - 1s 7ms/step - loss: 0.1618 - accuracy: 0.9438 - val_loss: 0.1630 - val_accuracy: 0.9362\n",
      "Epoch 3/50\n",
      "82/82 [==============================] - 1s 7ms/step - loss: 0.1340 - accuracy: 0.9525 - val_loss: 0.1449 - val_accuracy: 0.9415\n",
      "Epoch 4/50\n",
      "82/82 [==============================] - 1s 7ms/step - loss: 0.1136 - accuracy: 0.9621 - val_loss: 0.1223 - val_accuracy: 0.9538\n",
      "Epoch 5/50\n",
      "82/82 [==============================] - 1s 7ms/step - loss: 0.0941 - accuracy: 0.9704 - val_loss: 0.1043 - val_accuracy: 0.9638\n",
      "Epoch 6/50\n",
      "82/82 [==============================] - 1s 8ms/step - loss: 0.0832 - accuracy: 0.9731 - val_loss: 0.0889 - val_accuracy: 0.9685\n",
      "Epoch 7/50\n",
      "82/82 [==============================] - 1s 7ms/step - loss: 0.0946 - accuracy: 0.9690 - val_loss: 0.1082 - val_accuracy: 0.9646\n",
      "Epoch 8/50\n",
      "82/82 [==============================] - 1s 7ms/step - loss: 0.0787 - accuracy: 0.9750 - val_loss: 0.0723 - val_accuracy: 0.9769\n",
      "Epoch 9/50\n",
      "82/82 [==============================] - 1s 7ms/step - loss: 0.0720 - accuracy: 0.9767 - val_loss: 0.1039 - val_accuracy: 0.9654\n",
      "Epoch 10/50\n",
      "82/82 [==============================] - 1s 7ms/step - loss: 0.0792 - accuracy: 0.9733 - val_loss: 0.0664 - val_accuracy: 0.9800\n",
      "Epoch 11/50\n",
      "82/82 [==============================] - 1s 6ms/step - loss: 0.0599 - accuracy: 0.9817 - val_loss: 0.1364 - val_accuracy: 0.9515\n",
      "Epoch 12/50\n",
      "82/82 [==============================] - 1s 6ms/step - loss: 0.0611 - accuracy: 0.9811 - val_loss: 0.0885 - val_accuracy: 0.9669\n",
      "Epoch 13/50\n",
      "82/82 [==============================] - 1s 7ms/step - loss: 0.0580 - accuracy: 0.9817 - val_loss: 0.0640 - val_accuracy: 0.9846\n",
      "Epoch 14/50\n",
      "82/82 [==============================] - 1s 7ms/step - loss: 0.0527 - accuracy: 0.9836 - val_loss: 0.0601 - val_accuracy: 0.9831\n",
      "Epoch 15/50\n",
      "82/82 [==============================] - 1s 7ms/step - loss: 0.0543 - accuracy: 0.9840 - val_loss: 0.0819 - val_accuracy: 0.9708\n",
      "Epoch 16/50\n",
      "82/82 [==============================] - 1s 8ms/step - loss: 0.0660 - accuracy: 0.9792 - val_loss: 0.0697 - val_accuracy: 0.9777\n",
      "Epoch 17/50\n",
      "82/82 [==============================] - 1s 8ms/step - loss: 0.0494 - accuracy: 0.9852 - val_loss: 0.0646 - val_accuracy: 0.9823\n",
      "Epoch 18/50\n",
      "82/82 [==============================] - 1s 8ms/step - loss: 0.0580 - accuracy: 0.9800 - val_loss: 0.0523 - val_accuracy: 0.9854\n",
      "Epoch 19/50\n",
      "82/82 [==============================] - 1s 9ms/step - loss: 0.0488 - accuracy: 0.9854 - val_loss: 0.0697 - val_accuracy: 0.9808\n",
      "Epoch 20/50\n",
      "82/82 [==============================] - 1s 9ms/step - loss: 0.0543 - accuracy: 0.9821 - val_loss: 0.0542 - val_accuracy: 0.9815\n",
      "Epoch 21/50\n",
      "82/82 [==============================] - 1s 14ms/step - loss: 0.0432 - accuracy: 0.9877 - val_loss: 0.0548 - val_accuracy: 0.9885\n",
      "Epoch 22/50\n",
      "82/82 [==============================] - 1s 11ms/step - loss: 0.0491 - accuracy: 0.9854 - val_loss: 0.0506 - val_accuracy: 0.9838\n",
      "Epoch 23/50\n",
      "82/82 [==============================] - 1s 10ms/step - loss: 0.0552 - accuracy: 0.9815 - val_loss: 0.1120 - val_accuracy: 0.9600\n",
      "Epoch 24/50\n",
      "82/82 [==============================] - 1s 9ms/step - loss: 0.0469 - accuracy: 0.9865 - val_loss: 0.0576 - val_accuracy: 0.9869\n",
      "Epoch 25/50\n",
      "82/82 [==============================] - 1s 11ms/step - loss: 0.0492 - accuracy: 0.9842 - val_loss: 0.0523 - val_accuracy: 0.9815\n",
      "Epoch 26/50\n",
      "82/82 [==============================] - 1s 10ms/step - loss: 0.0453 - accuracy: 0.9873 - val_loss: 0.0504 - val_accuracy: 0.9862\n",
      "Epoch 27/50\n",
      "82/82 [==============================] - 1s 9ms/step - loss: 0.0445 - accuracy: 0.9869 - val_loss: 0.0527 - val_accuracy: 0.9846\n",
      "Epoch 28/50\n",
      "82/82 [==============================] - 1s 8ms/step - loss: 0.0416 - accuracy: 0.9873 - val_loss: 0.0481 - val_accuracy: 0.9877\n",
      "Epoch 29/50\n",
      "82/82 [==============================] - 1s 8ms/step - loss: 0.0639 - accuracy: 0.9771 - val_loss: 0.0510 - val_accuracy: 0.9846\n",
      "Epoch 30/50\n",
      "82/82 [==============================] - 1s 10ms/step - loss: 0.0402 - accuracy: 0.9881 - val_loss: 0.0607 - val_accuracy: 0.9808\n",
      "Epoch 31/50\n",
      "82/82 [==============================] - 1s 8ms/step - loss: 0.0392 - accuracy: 0.9885 - val_loss: 0.0506 - val_accuracy: 0.9838\n",
      "Epoch 32/50\n",
      "82/82 [==============================] - 1s 10ms/step - loss: 0.0437 - accuracy: 0.9873 - val_loss: 0.0454 - val_accuracy: 0.9862\n",
      "Epoch 33/50\n",
      "82/82 [==============================] - 1s 8ms/step - loss: 0.0446 - accuracy: 0.9869 - val_loss: 0.0663 - val_accuracy: 0.9777\n",
      "Epoch 34/50\n",
      "82/82 [==============================] - 1s 7ms/step - loss: 0.0441 - accuracy: 0.9860 - val_loss: 0.0450 - val_accuracy: 0.9877\n",
      "Epoch 35/50\n",
      "82/82 [==============================] - 1s 6ms/step - loss: 0.0429 - accuracy: 0.9871 - val_loss: 0.0493 - val_accuracy: 0.9854\n",
      "Epoch 36/50\n",
      "82/82 [==============================] - 0s 6ms/step - loss: 0.0395 - accuracy: 0.9888 - val_loss: 0.0513 - val_accuracy: 0.9846\n",
      "Epoch 37/50\n",
      "82/82 [==============================] - 1s 6ms/step - loss: 0.0444 - accuracy: 0.9858 - val_loss: 0.0538 - val_accuracy: 0.9792\n",
      "Epoch 38/50\n",
      "82/82 [==============================] - 1s 6ms/step - loss: 0.0448 - accuracy: 0.9844 - val_loss: 0.0509 - val_accuracy: 0.9854\n",
      "Epoch 39/50\n",
      "82/82 [==============================] - 0s 6ms/step - loss: 0.0484 - accuracy: 0.9842 - val_loss: 0.0467 - val_accuracy: 0.9846\n",
      "Epoch 40/50\n",
      "82/82 [==============================] - 1s 6ms/step - loss: 0.0363 - accuracy: 0.9898 - val_loss: 0.0441 - val_accuracy: 0.9869\n",
      "Epoch 41/50\n",
      "82/82 [==============================] - 0s 6ms/step - loss: 0.0405 - accuracy: 0.9892 - val_loss: 0.0422 - val_accuracy: 0.9885\n",
      "Epoch 42/50\n",
      "82/82 [==============================] - 0s 6ms/step - loss: 0.0373 - accuracy: 0.9892 - val_loss: 0.0456 - val_accuracy: 0.9854\n",
      "Epoch 43/50\n",
      "82/82 [==============================] - 1s 6ms/step - loss: 0.0345 - accuracy: 0.9902 - val_loss: 0.0690 - val_accuracy: 0.9769\n",
      "Epoch 44/50\n",
      "82/82 [==============================] - 1s 6ms/step - loss: 0.0350 - accuracy: 0.9900 - val_loss: 0.0977 - val_accuracy: 0.9715\n",
      "Epoch 45/50\n",
      "82/82 [==============================] - 0s 6ms/step - loss: 0.0358 - accuracy: 0.9906 - val_loss: 0.0468 - val_accuracy: 0.9862\n",
      "Epoch 46/50\n",
      "82/82 [==============================] - 1s 6ms/step - loss: 0.0494 - accuracy: 0.9838 - val_loss: 0.0434 - val_accuracy: 0.9869\n",
      "Epoch 47/50\n",
      "82/82 [==============================] - 0s 6ms/step - loss: 0.0388 - accuracy: 0.9886 - val_loss: 0.0421 - val_accuracy: 0.9869\n",
      "Epoch 48/50\n",
      "82/82 [==============================] - 0s 6ms/step - loss: 0.0406 - accuracy: 0.9871 - val_loss: 0.0532 - val_accuracy: 0.9823\n",
      "Epoch 49/50\n",
      "82/82 [==============================] - 0s 6ms/step - loss: 0.0365 - accuracy: 0.9888 - val_loss: 0.0424 - val_accuracy: 0.9885\n",
      "Epoch 50/50\n",
      "82/82 [==============================] - 0s 6ms/step - loss: 0.0361 - accuracy: 0.9898 - val_loss: 0.0430 - val_accuracy: 0.9869\n"
     ]
    },
    {
     "data": {
      "text/plain": [
       "<keras.src.callbacks.History at 0x1f735e84c50>"
      ]
     },
     "execution_count": 42,
     "metadata": {},
     "output_type": "execute_result"
    }
   ],
   "source": [
    "model.fit(X_train_n, y_train_n, epochs=50, batch_size=64, validation_data=(X_test_n, y_test_n))"
   ]
  },
  {
   "cell_type": "code",
   "execution_count": 43,
   "metadata": {},
   "outputs": [
    {
     "name": "stdout",
     "output_type": "stream",
     "text": [
      "41/41 [==============================] - 0s 2ms/step - loss: 0.0430 - accuracy: 0.9869\n",
      "Test Loss: 0.0430\n",
      "Test Accuracy: 0.9869\n"
     ]
    }
   ],
   "source": [
    "loss, accuracy = model.evaluate(X_test_n, y_test_n)\n",
    "print(f\"Test Loss: {loss:.4f}\")\n",
    "print(f\"Test Accuracy: {accuracy:.4f}\")"
   ]
  },
  {
   "cell_type": "markdown",
   "metadata": {},
   "source": [
    "## 4. Overfitting"
   ]
  },
  {
   "cell_type": "markdown",
   "metadata": {},
   "source": [
    "### Gaussian Naive Bayes"
   ]
  },
  {
   "cell_type": "markdown",
   "metadata": {},
   "source": [
    "Sử dụng adaboost để giảm overfitting"
   ]
  },
  {
   "cell_type": "code",
   "execution_count": 26,
   "metadata": {},
   "outputs": [
    {
     "name": "stdout",
     "output_type": "stream",
     "text": [
      "Ensemble Accuracy: 0.9483076923076923\n"
     ]
    }
   ],
   "source": [
    "gnb = GaussianNB()\n",
    "\n",
    "adaboost = AdaBoostClassifier(estimator=gnb, n_estimators=50, random_state=42)\n",
    "\n",
    "adaboost.fit(X_train, y_train)\n",
    "\n",
    "y_pred = adaboost.predict(X_test)\n",
    "\n",
    "accuracy = accuracy_score(y_test, y_pred)\n",
    "\n",
    "print(\"Ensemble Accuracy:\", accuracy)"
   ]
  },
  {
   "cell_type": "markdown",
   "metadata": {},
   "source": [
    "### Decision Tree"
   ]
  },
  {
   "cell_type": "markdown",
   "metadata": {},
   "source": [
    "Giải thích về các tham số mới của decision tree"
   ]
  },
  {
   "cell_type": "code",
   "execution_count": 10,
   "metadata": {},
   "outputs": [
    {
     "name": "stdout",
     "output_type": "stream",
     "text": [
      "accuracy :  0.9778461538461538\n"
     ]
    }
   ],
   "source": [
    "dt_over = DecisionTreeClassifier(max_depth=5, min_samples_split=5, min_samples_leaf=5)\n",
    "\n",
    "dt_over.fit(X_train, y_train)\n",
    "\n",
    "y_pred = dt_over.predict(X_test)\n",
    "\n",
    "print(\"accuracy : \", accuracy_score(y_test, y_pred))"
   ]
  },
  {
   "cell_type": "markdown",
   "metadata": {},
   "source": [
    "### Recurrent Neutral Network"
   ]
  },
  {
   "cell_type": "markdown",
   "metadata": {},
   "source": [
    "Để giảm overfitting , ta có thể giảm độ phức tạp của mô hình bằng cách giảm hidden layer , cũng như số neuron trên 1 layer, giảm epochs\n",
    "\n",
    "Ở đây , ta sẽ bớt đi một hidden layer ở giữa"
   ]
  },
  {
   "cell_type": "code",
   "execution_count": 44,
   "metadata": {},
   "outputs": [],
   "source": [
    "model_over = Sequential()\n",
    "model_over.add(LSTM(128, input_shape=(X_train_n.shape[1], X_train_n.shape[2]), return_sequences=True))\n",
    "model_over.add(LSTM(64))\n",
    "model_over.add(Dense(2, activation='softmax'))"
   ]
  },
  {
   "cell_type": "code",
   "execution_count": 45,
   "metadata": {},
   "outputs": [],
   "source": [
    "model_over.compile(loss='sparse_categorical_crossentropy', optimizer='adam', metrics=['accuracy'])"
   ]
  },
  {
   "cell_type": "code",
   "execution_count": 46,
   "metadata": {},
   "outputs": [
    {
     "name": "stdout",
     "output_type": "stream",
     "text": [
      "Epoch 1/25\n",
      "163/163 [==============================] - 5s 8ms/step - loss: 0.2238 - accuracy: 0.9159 - val_loss: 0.2120 - val_accuracy: 0.9246\n",
      "Epoch 2/25\n",
      "163/163 [==============================] - 1s 4ms/step - loss: 0.1563 - accuracy: 0.9444 - val_loss: 0.1508 - val_accuracy: 0.9454\n",
      "Epoch 3/25\n",
      "163/163 [==============================] - 1s 4ms/step - loss: 0.1203 - accuracy: 0.9552 - val_loss: 0.1078 - val_accuracy: 0.9623\n",
      "Epoch 4/25\n",
      "163/163 [==============================] - 1s 4ms/step - loss: 0.1005 - accuracy: 0.9669 - val_loss: 0.1291 - val_accuracy: 0.9577\n",
      "Epoch 5/25\n",
      "163/163 [==============================] - 1s 4ms/step - loss: 0.0861 - accuracy: 0.9721 - val_loss: 0.1117 - val_accuracy: 0.9600\n",
      "Epoch 6/25\n",
      "163/163 [==============================] - 1s 4ms/step - loss: 0.0759 - accuracy: 0.9769 - val_loss: 0.0789 - val_accuracy: 0.9777\n",
      "Epoch 7/25\n",
      "163/163 [==============================] - 1s 6ms/step - loss: 0.0758 - accuracy: 0.9750 - val_loss: 0.0748 - val_accuracy: 0.9723\n",
      "Epoch 8/25\n",
      "163/163 [==============================] - 1s 5ms/step - loss: 0.0685 - accuracy: 0.9769 - val_loss: 0.0726 - val_accuracy: 0.9746\n",
      "Epoch 9/25\n",
      "163/163 [==============================] - 1s 4ms/step - loss: 0.0599 - accuracy: 0.9840 - val_loss: 0.0687 - val_accuracy: 0.9785\n",
      "Epoch 10/25\n",
      "163/163 [==============================] - 1s 4ms/step - loss: 0.0715 - accuracy: 0.9738 - val_loss: 0.0912 - val_accuracy: 0.9700\n",
      "Epoch 11/25\n",
      "163/163 [==============================] - 1s 4ms/step - loss: 0.0675 - accuracy: 0.9794 - val_loss: 0.0727 - val_accuracy: 0.9800\n",
      "Epoch 12/25\n",
      "163/163 [==============================] - 1s 4ms/step - loss: 0.0546 - accuracy: 0.9844 - val_loss: 0.0654 - val_accuracy: 0.9785\n",
      "Epoch 13/25\n",
      "163/163 [==============================] - 1s 5ms/step - loss: 0.0530 - accuracy: 0.9829 - val_loss: 0.0677 - val_accuracy: 0.9815\n",
      "Epoch 14/25\n",
      "163/163 [==============================] - 1s 4ms/step - loss: 0.0560 - accuracy: 0.9819 - val_loss: 0.1044 - val_accuracy: 0.9700\n",
      "Epoch 15/25\n",
      "163/163 [==============================] - 1s 4ms/step - loss: 0.0647 - accuracy: 0.9792 - val_loss: 0.0884 - val_accuracy: 0.9700\n",
      "Epoch 16/25\n",
      "163/163 [==============================] - 1s 4ms/step - loss: 0.0528 - accuracy: 0.9848 - val_loss: 0.0606 - val_accuracy: 0.9838\n",
      "Epoch 17/25\n",
      "163/163 [==============================] - 1s 4ms/step - loss: 0.0575 - accuracy: 0.9825 - val_loss: 0.0755 - val_accuracy: 0.9731\n",
      "Epoch 18/25\n",
      "163/163 [==============================] - 1s 4ms/step - loss: 0.0503 - accuracy: 0.9846 - val_loss: 0.0596 - val_accuracy: 0.9862\n",
      "Epoch 19/25\n",
      "163/163 [==============================] - 1s 7ms/step - loss: 0.0483 - accuracy: 0.9869 - val_loss: 0.0614 - val_accuracy: 0.9831\n",
      "Epoch 20/25\n",
      "163/163 [==============================] - 1s 4ms/step - loss: 0.0485 - accuracy: 0.9844 - val_loss: 0.0553 - val_accuracy: 0.9862\n",
      "Epoch 21/25\n",
      "163/163 [==============================] - 1s 4ms/step - loss: 0.0510 - accuracy: 0.9846 - val_loss: 0.0579 - val_accuracy: 0.9823\n",
      "Epoch 22/25\n",
      "163/163 [==============================] - 1s 6ms/step - loss: 0.0520 - accuracy: 0.9846 - val_loss: 0.0775 - val_accuracy: 0.9731\n",
      "Epoch 23/25\n",
      "163/163 [==============================] - 1s 7ms/step - loss: 0.0574 - accuracy: 0.9833 - val_loss: 0.0705 - val_accuracy: 0.9800\n",
      "Epoch 24/25\n",
      "163/163 [==============================] - 1s 4ms/step - loss: 0.0559 - accuracy: 0.9827 - val_loss: 0.0819 - val_accuracy: 0.9785\n",
      "Epoch 25/25\n",
      "163/163 [==============================] - 1s 4ms/step - loss: 0.0493 - accuracy: 0.9836 - val_loss: 0.0535 - val_accuracy: 0.9862\n"
     ]
    },
    {
     "data": {
      "text/plain": [
       "<keras.src.callbacks.History at 0x1f73dbcef10>"
      ]
     },
     "execution_count": 46,
     "metadata": {},
     "output_type": "execute_result"
    }
   ],
   "source": [
    "model_over.fit(X_train_n, y_train_n, epochs=25, batch_size=32, validation_data=(X_test_n, y_test_n))"
   ]
  },
  {
   "cell_type": "code",
   "execution_count": 47,
   "metadata": {},
   "outputs": [
    {
     "name": "stdout",
     "output_type": "stream",
     "text": [
      "41/41 [==============================] - 0s 2ms/step - loss: 0.0535 - accuracy: 0.9862\n",
      "Test Loss: 0.0535\n",
      "Test Accuracy: 0.9862\n"
     ]
    }
   ],
   "source": [
    "loss, accuracy = model_over.evaluate(X_test_n, y_test_n)\n",
    "print(f\"Test Loss: {loss:.4f}\")\n",
    "print(f\"Test Accuracy: {accuracy:.4f}\")"
   ]
  },
  {
   "cell_type": "markdown",
   "metadata": {},
   "source": [
    "### Feed Forward Neutral Network"
   ]
  },
  {
   "cell_type": "code",
   "execution_count": 19,
   "metadata": {},
   "outputs": [
    {
     "name": "stdout",
     "output_type": "stream",
     "text": [
      "accuracy :  0.9846153846153847\n"
     ]
    }
   ],
   "source": [
    "fnn_over = MLPClassifier(hidden_layer_sizes=(128, 64), alpha=0.01, max_iter=1000, early_stopping=True, random_state=42)\n",
    "fnn_over.fit(X_train, y_train)\n",
    "\n",
    "y_pred = fnn.predict(X_test)\n",
    "\n",
    "print(\"accuracy : \", accuracy_score(y_test, y_pred))"
   ]
  },
  {
   "cell_type": "markdown",
   "metadata": {},
   "source": [
    "## 5. Improve the accuracy"
   ]
  },
  {
   "cell_type": "markdown",
   "metadata": {},
   "source": [
    "### Gaussian NB"
   ]
  },
  {
   "cell_type": "code",
   "execution_count": 27,
   "metadata": {},
   "outputs": [
    {
     "data": {
      "text/plain": [
       "<Axes: >"
      ]
     },
     "execution_count": 27,
     "metadata": {},
     "output_type": "execute_result"
    },
    {
     "data": {
      "image/png": "[encoded data removed]",
      "text/plain": [
       "<Figure size 640x480 with 1 Axes>"
      ]
     },
     "metadata": {},
     "output_type": "display_data"
    }
   ],
   "source": [
    "X = data.drop('color', axis=1)\n",
    "y = data['color']\n",
    "\n",
    "score = f_classif(X, y)\n",
    "\n",
    "value = pd.Series(score[0], index=X.columns)\n",
    "value.sort_values(ascending=False, inplace=True)\n",
    "value.plot.bar()"
   ]
  },
  {
   "cell_type": "markdown",
   "metadata": {},
   "source": [
    "#### Select 9 best attribute"
   ]
  },
  {
   "cell_type": "code",
   "execution_count": 34,
   "metadata": {},
   "outputs": [],
   "source": [
    "selector = SelectKBest(f_classif, k = 10)\n",
    "selector.fit(X,y)\n",
    "cols_name = selector.get_support(indices=True)\n",
    "\n",
    "X_train_new = X_train.iloc[:,cols_name]\n",
    "X_test_new = X_test.iloc[:,cols_name]"
   ]
  },
  {
   "cell_type": "markdown",
   "metadata": {},
   "source": [
    "#### Evaluate"
   ]
  },
  {
   "cell_type": "code",
   "execution_count": 35,
   "metadata": {},
   "outputs": [
    {
     "name": "stdout",
     "output_type": "stream",
     "text": [
      "accuracy :  0.9661538461538461\n"
     ]
    }
   ],
   "source": [
    "model = GaussianNB()\n",
    "\n",
    "model.fit(X_train_new, y_train)\n",
    "\n",
    "y_pred = model.predict(X_test_new)\n",
    "\n",
    "print(\"accuracy : \", accuracy_score(y_test, y_pred))"
   ]
  },
  {
   "cell_type": "markdown",
   "metadata": {},
   "source": [
    "### Recurrent Neutral Network"
   ]
  },
  {
   "cell_type": "markdown",
   "metadata": {},
   "source": [
    "Tăng accuracy bằng cách tăng epochs cũng như batch_size"
   ]
  },
  {
   "cell_type": "code",
   "execution_count": 48,
   "metadata": {},
   "outputs": [],
   "source": [
    "model = Sequential()\n",
    "model.add(LSTM(128, input_shape=(X_train_n.shape[1], X_train_n.shape[2]), return_sequences=True))\n",
    "model.add(LSTM(128, return_sequences=True))\n",
    "model.add(LSTM(64))\n",
    "model.add(Dense(2, activation='softmax'))"
   ]
  },
  {
   "cell_type": "code",
   "execution_count": 49,
   "metadata": {},
   "outputs": [],
   "source": [
    "model.compile(loss='sparse_categorical_crossentropy', optimizer='adam', metrics=['accuracy'])"
   ]
  },
  {
   "cell_type": "code",
   "execution_count": 59,
   "metadata": {},
   "outputs": [
    {
     "name": "stdout",
     "output_type": "stream",
     "text": [
      "Epoch 1/100\n",
      "11/11 [==============================] - 0s 24ms/step - loss: 0.0318 - accuracy: 0.9896 - val_loss: 0.0520 - val_accuracy: 0.9823\n",
      "Epoch 2/100\n",
      "11/11 [==============================] - 0s 20ms/step - loss: 0.0257 - accuracy: 0.9919 - val_loss: 0.0488 - val_accuracy: 0.9869\n",
      "Epoch 3/100\n",
      "11/11 [==============================] - 0s 20ms/step - loss: 0.0279 - accuracy: 0.9935 - val_loss: 0.0448 - val_accuracy: 0.9885\n",
      "Epoch 4/100\n",
      "11/11 [==============================] - 0s 26ms/step - loss: 0.0370 - accuracy: 0.9877 - val_loss: 0.0845 - val_accuracy: 0.9738\n",
      "Epoch 5/100\n",
      "11/11 [==============================] - 0s 24ms/step - loss: 0.0396 - accuracy: 0.9867 - val_loss: 0.0471 - val_accuracy: 0.9885\n",
      "Epoch 6/100\n",
      "11/11 [==============================] - 0s 20ms/step - loss: 0.0278 - accuracy: 0.9919 - val_loss: 0.0442 - val_accuracy: 0.9892\n",
      "Epoch 7/100\n",
      "11/11 [==============================] - 0s 21ms/step - loss: 0.0288 - accuracy: 0.9913 - val_loss: 0.0445 - val_accuracy: 0.9885\n",
      "Epoch 8/100\n",
      "11/11 [==============================] - 0s 25ms/step - loss: 0.0257 - accuracy: 0.9925 - val_loss: 0.0426 - val_accuracy: 0.9892\n",
      "Epoch 9/100\n",
      "11/11 [==============================] - 0s 21ms/step - loss: 0.0242 - accuracy: 0.9931 - val_loss: 0.0423 - val_accuracy: 0.9885\n",
      "Epoch 10/100\n",
      "11/11 [==============================] - 0s 21ms/step - loss: 0.0256 - accuracy: 0.9923 - val_loss: 0.0435 - val_accuracy: 0.9885\n",
      "Epoch 11/100\n",
      "11/11 [==============================] - 0s 21ms/step - loss: 0.0234 - accuracy: 0.9927 - val_loss: 0.0427 - val_accuracy: 0.9892\n",
      "Epoch 12/100\n",
      "11/11 [==============================] - 0s 21ms/step - loss: 0.0241 - accuracy: 0.9931 - val_loss: 0.0489 - val_accuracy: 0.9877\n",
      "Epoch 13/100\n",
      "11/11 [==============================] - 0s 22ms/step - loss: 0.0245 - accuracy: 0.9927 - val_loss: 0.0476 - val_accuracy: 0.9885\n",
      "Epoch 14/100\n",
      "11/11 [==============================] - 0s 21ms/step - loss: 0.0244 - accuracy: 0.9927 - val_loss: 0.0422 - val_accuracy: 0.9892\n",
      "Epoch 15/100\n",
      "11/11 [==============================] - 0s 21ms/step - loss: 0.0272 - accuracy: 0.9921 - val_loss: 0.0647 - val_accuracy: 0.9792\n",
      "Epoch 16/100\n",
      "11/11 [==============================] - 0s 22ms/step - loss: 0.0424 - accuracy: 0.9867 - val_loss: 0.0481 - val_accuracy: 0.9862\n",
      "Epoch 17/100\n",
      "11/11 [==============================] - 0s 28ms/step - loss: 0.0242 - accuracy: 0.9921 - val_loss: 0.0461 - val_accuracy: 0.9877\n",
      "Epoch 18/100\n",
      "11/11 [==============================] - 0s 24ms/step - loss: 0.0237 - accuracy: 0.9935 - val_loss: 0.0533 - val_accuracy: 0.9831\n",
      "Epoch 19/100\n",
      "11/11 [==============================] - 0s 23ms/step - loss: 0.0254 - accuracy: 0.9913 - val_loss: 0.0404 - val_accuracy: 0.9900\n",
      "Epoch 20/100\n",
      "11/11 [==============================] - 0s 24ms/step - loss: 0.0233 - accuracy: 0.9935 - val_loss: 0.0396 - val_accuracy: 0.9900\n",
      "Epoch 21/100\n",
      "11/11 [==============================] - 0s 21ms/step - loss: 0.0250 - accuracy: 0.9925 - val_loss: 0.0432 - val_accuracy: 0.9885\n",
      "Epoch 22/100\n",
      "11/11 [==============================] - 0s 23ms/step - loss: 0.0250 - accuracy: 0.9917 - val_loss: 0.0447 - val_accuracy: 0.9877\n",
      "Epoch 23/100\n",
      "11/11 [==============================] - 0s 20ms/step - loss: 0.0282 - accuracy: 0.9919 - val_loss: 0.0429 - val_accuracy: 0.9862\n",
      "Epoch 24/100\n",
      "11/11 [==============================] - 0s 21ms/step - loss: 0.0251 - accuracy: 0.9933 - val_loss: 0.0453 - val_accuracy: 0.9885\n",
      "Epoch 25/100\n",
      "11/11 [==============================] - 0s 22ms/step - loss: 0.0279 - accuracy: 0.9917 - val_loss: 0.0629 - val_accuracy: 0.9808\n",
      "Epoch 26/100\n",
      "11/11 [==============================] - 0s 20ms/step - loss: 0.0315 - accuracy: 0.9892 - val_loss: 0.0441 - val_accuracy: 0.9892\n",
      "Epoch 27/100\n",
      "11/11 [==============================] - 0s 21ms/step - loss: 0.0290 - accuracy: 0.9915 - val_loss: 0.0773 - val_accuracy: 0.9762\n",
      "Epoch 28/100\n",
      "11/11 [==============================] - 0s 21ms/step - loss: 0.0306 - accuracy: 0.9913 - val_loss: 0.0401 - val_accuracy: 0.9892\n",
      "Epoch 29/100\n",
      "11/11 [==============================] - 0s 21ms/step - loss: 0.0283 - accuracy: 0.9913 - val_loss: 0.0381 - val_accuracy: 0.9892\n",
      "Epoch 30/100\n",
      "11/11 [==============================] - 0s 23ms/step - loss: 0.0258 - accuracy: 0.9919 - val_loss: 0.0396 - val_accuracy: 0.9885\n",
      "Epoch 31/100\n",
      "11/11 [==============================] - 0s 21ms/step - loss: 0.0254 - accuracy: 0.9927 - val_loss: 0.0457 - val_accuracy: 0.9854\n",
      "Epoch 32/100\n",
      "11/11 [==============================] - 0s 21ms/step - loss: 0.0270 - accuracy: 0.9913 - val_loss: 0.0426 - val_accuracy: 0.9877\n",
      "Epoch 33/100\n",
      "11/11 [==============================] - 0s 21ms/step - loss: 0.0231 - accuracy: 0.9927 - val_loss: 0.0474 - val_accuracy: 0.9846\n",
      "Epoch 34/100\n",
      "11/11 [==============================] - 0s 22ms/step - loss: 0.0246 - accuracy: 0.9923 - val_loss: 0.0421 - val_accuracy: 0.9885\n",
      "Epoch 35/100\n",
      "11/11 [==============================] - 0s 21ms/step - loss: 0.0230 - accuracy: 0.9933 - val_loss: 0.0412 - val_accuracy: 0.9908\n",
      "Epoch 36/100\n",
      "11/11 [==============================] - 0s 21ms/step - loss: 0.0230 - accuracy: 0.9925 - val_loss: 0.0538 - val_accuracy: 0.9838\n",
      "Epoch 37/100\n",
      "11/11 [==============================] - 0s 26ms/step - loss: 0.0380 - accuracy: 0.9871 - val_loss: 0.0469 - val_accuracy: 0.9846\n",
      "Epoch 38/100\n",
      "11/11 [==============================] - 0s 21ms/step - loss: 0.0298 - accuracy: 0.9896 - val_loss: 0.0397 - val_accuracy: 0.9900\n",
      "Epoch 39/100\n",
      "11/11 [==============================] - 0s 21ms/step - loss: 0.0235 - accuracy: 0.9927 - val_loss: 0.0410 - val_accuracy: 0.9892\n",
      "Epoch 40/100\n",
      "11/11 [==============================] - 0s 21ms/step - loss: 0.0225 - accuracy: 0.9929 - val_loss: 0.0416 - val_accuracy: 0.9900\n",
      "Epoch 41/100\n",
      "11/11 [==============================] - 0s 21ms/step - loss: 0.0223 - accuracy: 0.9935 - val_loss: 0.0384 - val_accuracy: 0.9900\n",
      "Epoch 42/100\n",
      "11/11 [==============================] - 0s 22ms/step - loss: 0.0212 - accuracy: 0.9946 - val_loss: 0.0391 - val_accuracy: 0.9892\n",
      "Epoch 43/100\n",
      "11/11 [==============================] - 0s 21ms/step - loss: 0.0217 - accuracy: 0.9937 - val_loss: 0.0399 - val_accuracy: 0.9908\n",
      "Epoch 44/100\n",
      "11/11 [==============================] - 0s 21ms/step - loss: 0.0255 - accuracy: 0.9919 - val_loss: 0.0469 - val_accuracy: 0.9885\n",
      "Epoch 45/100\n",
      "11/11 [==============================] - 0s 20ms/step - loss: 0.0301 - accuracy: 0.9906 - val_loss: 0.0429 - val_accuracy: 0.9892\n",
      "Epoch 46/100\n",
      "11/11 [==============================] - 0s 19ms/step - loss: 0.0256 - accuracy: 0.9929 - val_loss: 0.0424 - val_accuracy: 0.9885\n",
      "Epoch 47/100\n",
      "11/11 [==============================] - 0s 19ms/step - loss: 0.0216 - accuracy: 0.9931 - val_loss: 0.0418 - val_accuracy: 0.9915\n",
      "Epoch 48/100\n",
      "11/11 [==============================] - 0s 22ms/step - loss: 0.0228 - accuracy: 0.9931 - val_loss: 0.0429 - val_accuracy: 0.9877\n",
      "Epoch 49/100\n",
      "11/11 [==============================] - 0s 22ms/step - loss: 0.0232 - accuracy: 0.9938 - val_loss: 0.0457 - val_accuracy: 0.9877\n",
      "Epoch 50/100\n",
      "11/11 [==============================] - 0s 32ms/step - loss: 0.0228 - accuracy: 0.9929 - val_loss: 0.0409 - val_accuracy: 0.9900\n",
      "Epoch 51/100\n",
      "11/11 [==============================] - 0s 29ms/step - loss: 0.0222 - accuracy: 0.9929 - val_loss: 0.0402 - val_accuracy: 0.9900\n",
      "Epoch 52/100\n",
      "11/11 [==============================] - 0s 20ms/step - loss: 0.0225 - accuracy: 0.9921 - val_loss: 0.0420 - val_accuracy: 0.9900\n",
      "Epoch 53/100\n",
      "11/11 [==============================] - 0s 19ms/step - loss: 0.0209 - accuracy: 0.9935 - val_loss: 0.0425 - val_accuracy: 0.9900\n",
      "Epoch 54/100\n",
      "11/11 [==============================] - 0s 19ms/step - loss: 0.0203 - accuracy: 0.9937 - val_loss: 0.0513 - val_accuracy: 0.9831\n",
      "Epoch 55/100\n",
      "11/11 [==============================] - 0s 19ms/step - loss: 0.0251 - accuracy: 0.9921 - val_loss: 0.0414 - val_accuracy: 0.9885\n",
      "Epoch 56/100\n",
      "11/11 [==============================] - 0s 22ms/step - loss: 0.0212 - accuracy: 0.9931 - val_loss: 0.0450 - val_accuracy: 0.9915\n",
      "Epoch 57/100\n",
      "11/11 [==============================] - 0s 19ms/step - loss: 0.0215 - accuracy: 0.9940 - val_loss: 0.0503 - val_accuracy: 0.9862\n",
      "Epoch 58/100\n",
      "11/11 [==============================] - 0s 21ms/step - loss: 0.0216 - accuracy: 0.9933 - val_loss: 0.0429 - val_accuracy: 0.9885\n",
      "Epoch 59/100\n",
      "11/11 [==============================] - 0s 21ms/step - loss: 0.0218 - accuracy: 0.9923 - val_loss: 0.0504 - val_accuracy: 0.9854\n",
      "Epoch 60/100\n",
      "11/11 [==============================] - 0s 20ms/step - loss: 0.0208 - accuracy: 0.9933 - val_loss: 0.0527 - val_accuracy: 0.9854\n",
      "Epoch 61/100\n",
      "11/11 [==============================] - 0s 21ms/step - loss: 0.0208 - accuracy: 0.9942 - val_loss: 0.0727 - val_accuracy: 0.9792\n",
      "Epoch 62/100\n",
      "11/11 [==============================] - 0s 21ms/step - loss: 0.1160 - accuracy: 0.9675 - val_loss: 0.1342 - val_accuracy: 0.9631\n",
      "Epoch 63/100\n",
      "11/11 [==============================] - 0s 19ms/step - loss: 0.0704 - accuracy: 0.9771 - val_loss: 0.0645 - val_accuracy: 0.9831\n",
      "Epoch 64/100\n",
      "11/11 [==============================] - 0s 20ms/step - loss: 0.0448 - accuracy: 0.9881 - val_loss: 0.0502 - val_accuracy: 0.9862\n",
      "Epoch 65/100\n",
      "11/11 [==============================] - 0s 20ms/step - loss: 0.0351 - accuracy: 0.9906 - val_loss: 0.0444 - val_accuracy: 0.9885\n",
      "Epoch 66/100\n",
      "11/11 [==============================] - 0s 19ms/step - loss: 0.0316 - accuracy: 0.9904 - val_loss: 0.0489 - val_accuracy: 0.9862\n",
      "Epoch 67/100\n",
      "11/11 [==============================] - 0s 20ms/step - loss: 0.0353 - accuracy: 0.9877 - val_loss: 0.0557 - val_accuracy: 0.9815\n",
      "Epoch 68/100\n",
      "11/11 [==============================] - 0s 21ms/step - loss: 0.0296 - accuracy: 0.9902 - val_loss: 0.0473 - val_accuracy: 0.9854\n",
      "Epoch 69/100\n",
      "11/11 [==============================] - 0s 19ms/step - loss: 0.0264 - accuracy: 0.9919 - val_loss: 0.0458 - val_accuracy: 0.9869\n",
      "Epoch 70/100\n",
      "11/11 [==============================] - 0s 21ms/step - loss: 0.0251 - accuracy: 0.9919 - val_loss: 0.0460 - val_accuracy: 0.9869\n",
      "Epoch 71/100\n",
      "11/11 [==============================] - 0s 20ms/step - loss: 0.0245 - accuracy: 0.9933 - val_loss: 0.0413 - val_accuracy: 0.9892\n",
      "Epoch 72/100\n",
      "11/11 [==============================] - 0s 20ms/step - loss: 0.0241 - accuracy: 0.9923 - val_loss: 0.0406 - val_accuracy: 0.9885\n",
      "Epoch 73/100\n",
      "11/11 [==============================] - 0s 20ms/step - loss: 0.0262 - accuracy: 0.9923 - val_loss: 0.0428 - val_accuracy: 0.9877\n",
      "Epoch 74/100\n",
      "11/11 [==============================] - 0s 21ms/step - loss: 0.0286 - accuracy: 0.9910 - val_loss: 0.0710 - val_accuracy: 0.9792\n",
      "Epoch 75/100\n",
      "11/11 [==============================] - 0s 20ms/step - loss: 0.0353 - accuracy: 0.9890 - val_loss: 0.0475 - val_accuracy: 0.9846\n",
      "Epoch 76/100\n",
      "11/11 [==============================] - 0s 21ms/step - loss: 0.0233 - accuracy: 0.9933 - val_loss: 0.0468 - val_accuracy: 0.9877\n",
      "Epoch 77/100\n",
      "11/11 [==============================] - 0s 20ms/step - loss: 0.0225 - accuracy: 0.9927 - val_loss: 0.0432 - val_accuracy: 0.9900\n",
      "Epoch 78/100\n",
      "11/11 [==============================] - 0s 19ms/step - loss: 0.0217 - accuracy: 0.9925 - val_loss: 0.0398 - val_accuracy: 0.9900\n",
      "Epoch 79/100\n",
      "11/11 [==============================] - 0s 20ms/step - loss: 0.0222 - accuracy: 0.9925 - val_loss: 0.0410 - val_accuracy: 0.9877\n",
      "Epoch 80/100\n",
      "11/11 [==============================] - 0s 20ms/step - loss: 0.0260 - accuracy: 0.9917 - val_loss: 0.0393 - val_accuracy: 0.9900\n",
      "Epoch 81/100\n",
      "11/11 [==============================] - 0s 20ms/step - loss: 0.0220 - accuracy: 0.9927 - val_loss: 0.0463 - val_accuracy: 0.9877\n",
      "Epoch 82/100\n",
      "11/11 [==============================] - 0s 20ms/step - loss: 0.0221 - accuracy: 0.9937 - val_loss: 0.0679 - val_accuracy: 0.9815\n",
      "Epoch 83/100\n",
      "11/11 [==============================] - 0s 25ms/step - loss: 0.0253 - accuracy: 0.9921 - val_loss: 0.0397 - val_accuracy: 0.9900\n",
      "Epoch 84/100\n",
      "11/11 [==============================] - 0s 20ms/step - loss: 0.0216 - accuracy: 0.9935 - val_loss: 0.0412 - val_accuracy: 0.9892\n",
      "Epoch 85/100\n",
      "11/11 [==============================] - 0s 20ms/step - loss: 0.0225 - accuracy: 0.9917 - val_loss: 0.0414 - val_accuracy: 0.9877\n",
      "Epoch 86/100\n",
      "11/11 [==============================] - 0s 20ms/step - loss: 0.0286 - accuracy: 0.9904 - val_loss: 0.0486 - val_accuracy: 0.9900\n",
      "Epoch 87/100\n",
      "11/11 [==============================] - 0s 21ms/step - loss: 0.0393 - accuracy: 0.9883 - val_loss: 0.0662 - val_accuracy: 0.9792\n",
      "Epoch 88/100\n",
      "11/11 [==============================] - 0s 20ms/step - loss: 0.0296 - accuracy: 0.9911 - val_loss: 0.0495 - val_accuracy: 0.9869\n",
      "Epoch 89/100\n",
      "11/11 [==============================] - 0s 20ms/step - loss: 0.0264 - accuracy: 0.9915 - val_loss: 0.0418 - val_accuracy: 0.9892\n",
      "Epoch 90/100\n",
      "11/11 [==============================] - 0s 22ms/step - loss: 0.0245 - accuracy: 0.9929 - val_loss: 0.0458 - val_accuracy: 0.9869\n",
      "Epoch 91/100\n",
      "11/11 [==============================] - 0s 19ms/step - loss: 0.0232 - accuracy: 0.9929 - val_loss: 0.0388 - val_accuracy: 0.9908\n",
      "Epoch 92/100\n",
      "11/11 [==============================] - 0s 21ms/step - loss: 0.0238 - accuracy: 0.9921 - val_loss: 0.0443 - val_accuracy: 0.9908\n",
      "Epoch 93/100\n",
      "11/11 [==============================] - 0s 19ms/step - loss: 0.0374 - accuracy: 0.9875 - val_loss: 0.0645 - val_accuracy: 0.9792\n",
      "Epoch 94/100\n",
      "11/11 [==============================] - 0s 23ms/step - loss: 0.0269 - accuracy: 0.9927 - val_loss: 0.0364 - val_accuracy: 0.9915\n",
      "Epoch 95/100\n",
      "11/11 [==============================] - 0s 20ms/step - loss: 0.0228 - accuracy: 0.9921 - val_loss: 0.0389 - val_accuracy: 0.9900\n",
      "Epoch 96/100\n",
      "11/11 [==============================] - 0s 21ms/step - loss: 0.0213 - accuracy: 0.9929 - val_loss: 0.0391 - val_accuracy: 0.9900\n",
      "Epoch 97/100\n",
      "11/11 [==============================] - 0s 19ms/step - loss: 0.0211 - accuracy: 0.9938 - val_loss: 0.0419 - val_accuracy: 0.9908\n",
      "Epoch 98/100\n",
      "11/11 [==============================] - 0s 20ms/step - loss: 0.0234 - accuracy: 0.9921 - val_loss: 0.0381 - val_accuracy: 0.9923\n",
      "Epoch 99/100\n",
      "11/11 [==============================] - 0s 19ms/step - loss: 0.0226 - accuracy: 0.9931 - val_loss: 0.0421 - val_accuracy: 0.9908\n",
      "Epoch 100/100\n",
      "11/11 [==============================] - 0s 19ms/step - loss: 0.0271 - accuracy: 0.9906 - val_loss: 0.0390 - val_accuracy: 0.9915\n"
     ]
    },
    {
     "data": {
      "text/plain": [
       "<keras.src.callbacks.History at 0x1f747d60d90>"
      ]
     },
     "execution_count": 59,
     "metadata": {},
     "output_type": "execute_result"
    }
   ],
   "source": [
    "model.fit(X_train_n, y_train_n, epochs=100, batch_size=512, validation_data=(X_test_n, y_test_n))"
   ]
  },
  {
   "cell_type": "code",
   "execution_count": 60,
   "metadata": {},
   "outputs": [
    {
     "name": "stdout",
     "output_type": "stream",
     "text": [
      "41/41 [==============================] - 0s 2ms/step - loss: 0.0390 - accuracy: 0.9915\n",
      "Test Loss: 0.0390\n",
      "Test Accuracy: 0.9915\n"
     ]
    }
   ],
   "source": [
    "loss, accuracy = model.evaluate(X_test_n, y_test_n)\n",
    "print(f\"Test Loss: {loss:.4f}\")\n",
    "print(f\"Test Accuracy: {accuracy:.4f}\")"
   ]
  }
 ],
 "metadata": {
  "kernelspec": {
   "display_name": "Python 3",
   "language": "python",
   "name": "python3"
  },
  "language_info": {
   "codemirror_mode": {
    "name": "ipython",
    "version": 3
   },
   "file_extension": ".py",
   "mimetype": "text/x-python",
   "name": "python",
   "nbconvert_exporter": "python",
   "pygments_lexer": "ipython3",
   "version": "3.11.5"
  }
 },
 "nbformat": 4,
 "nbformat_minor": 2
}
