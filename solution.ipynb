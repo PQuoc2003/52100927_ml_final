{
 "cells": [
  {
   "cell_type": "code",
   "execution_count": 211,
   "metadata": {},
   "outputs": [],
   "source": [
    "import pandas as pd\n",
    "from sklearn.preprocessing import LabelEncoder\n",
    "from sklearn.naive_bayes import MultinomialNB\n",
    "from sklearn.naive_bayes import BernoulliNB\n",
    "from sklearn.model_selection import train_test_split\n",
    "from sklearn.metrics import accuracy_score\n",
    "from sklearn.feature_selection import f_classif, SelectKBest\n",
    "from keras.models import Sequential\n",
    "from keras.layers import LSTM, Dense"
   ]
  },
  {
   "cell_type": "markdown",
   "metadata": {},
   "source": [
    "## Read data file"
   ]
  },
  {
   "cell_type": "code",
   "execution_count": 212,
   "metadata": {},
   "outputs": [],
   "source": [
    "data = pd.read_csv('./wine.csv')"
   ]
  },
  {
   "cell_type": "markdown",
   "metadata": {},
   "source": [
    "## Preprocessing"
   ]
  },
  {
   "cell_type": "code",
   "execution_count": 213,
   "metadata": {},
   "outputs": [],
   "source": [
    "le =LabelEncoder()\n",
    "\n",
    "le.fit(data['color'])\n",
    "\n",
    "data['color']=le.transform(data['color'])\n"
   ]
  },
  {
   "cell_type": "markdown",
   "metadata": {},
   "source": [
    "## 2. Use simple model to solve problem"
   ]
  },
  {
   "cell_type": "code",
   "execution_count": 214,
   "metadata": {},
   "outputs": [],
   "source": [
    "X = data.drop('quality', axis=1)\n",
    "y = data['quality']"
   ]
  },
  {
   "cell_type": "code",
   "execution_count": 215,
   "metadata": {},
   "outputs": [],
   "source": [
    "X_train, X_test , y_train , y_test = train_test_split(X, y, test_size=0.25, random_state=42)"
   ]
  },
  {
   "cell_type": "markdown",
   "metadata": {},
   "source": [
    "### Multinomial Naive Bayes"
   ]
  },
  {
   "cell_type": "code",
   "execution_count": 216,
   "metadata": {},
   "outputs": [
    {
     "name": "stdout",
     "output_type": "stream",
     "text": [
      "accuracy :  0.3513846153846154\n"
     ]
    }
   ],
   "source": [
    "model = MultinomialNB()\n",
    "\n",
    "model.fit(X_train, y_train)\n",
    "\n",
    "y_pred = model.predict(X_test)\n",
    "\n",
    "print(\"accuracy : \", accuracy_score(y_test, y_pred))\n"
   ]
  },
  {
   "cell_type": "markdown",
   "metadata": {},
   "source": [
    "## 5. Improve the accuracy"
   ]
  },
  {
   "cell_type": "markdown",
   "metadata": {},
   "source": [
    "### Feature selection"
   ]
  },
  {
   "cell_type": "code",
   "execution_count": 217,
   "metadata": {},
   "outputs": [
    {
     "data": {
      "text/plain": [
       "<Axes: >"
      ]
     },
     "execution_count": 217,
     "metadata": {},
     "output_type": "execute_result"
    },
    {
     "data": {
      "image/png": "[encoded data removed]",
      "text/plain": [
       "<Figure size 640x480 with 1 Axes>"
      ]
     },
     "metadata": {},
     "output_type": "display_data"
    }
   ],
   "source": [
    "X = data.drop('quality', axis=1)\n",
    "y = data['quality']\n",
    "\n",
    "score = f_classif(X, y)\n",
    "\n",
    "value = pd.Series(score[0], index=X.columns)\n",
    "value.sort_values(ascending=False, inplace=True)\n",
    "value.plot.bar()\n"
   ]
  },
  {
   "cell_type": "markdown",
   "metadata": {},
   "source": [
    "### Select best 6 feature"
   ]
  },
  {
   "cell_type": "code",
   "execution_count": 218,
   "metadata": {},
   "outputs": [],
   "source": [
    "selector = SelectKBest(f_classif, k = 6)\n",
    "selector.fit(X,y)\n",
    "cols_name = selector.get_support(indices=True)\n",
    "\n",
    "X_train_new = X_train.iloc[:,cols_name]\n",
    "X_test_new = X_test.iloc[:,cols_name]"
   ]
  },
  {
   "cell_type": "markdown",
   "metadata": {},
   "source": [
    "### Evaluate the result after feature selection"
   ]
  },
  {
   "cell_type": "code",
   "execution_count": 219,
   "metadata": {},
   "outputs": [
    {
     "name": "stdout",
     "output_type": "stream",
     "text": [
      "accuracy :  0.4473846153846154\n"
     ]
    }
   ],
   "source": [
    "model = MultinomialNB()\n",
    "\n",
    "model.fit(X_train_new, y_train)\n",
    "\n",
    "y_pred = model.predict(X_test_new)\n",
    "\n",
    "print(\"accuracy : \", accuracy_score(y_test, y_pred))"
   ]
  },
  {
   "cell_type": "markdown",
   "metadata": {},
   "source": [
    "## 3 . Recurrent Neutral Network"
   ]
  },
  {
   "cell_type": "code",
   "execution_count": 220,
   "metadata": {},
   "outputs": [],
   "source": [
    "X_value = data.drop('quality', axis=1).values\n",
    "y_value = data['quality'].values"
   ]
  },
  {
   "cell_type": "code",
   "execution_count": 221,
   "metadata": {},
   "outputs": [],
   "source": [
    "# label_encoder = LabelEncoder()\n",
    "\n",
    "# y = label_encoder.fit_transform(y)"
   ]
  },
  {
   "cell_type": "code",
   "execution_count": 222,
   "metadata": {},
   "outputs": [],
   "source": [
    "X_train_n, X_test_n, y_train_n, y_test_n = train_test_split(X_value, y_value, test_size=0.2, random_state=42)"
   ]
  },
  {
   "cell_type": "code",
   "execution_count": 223,
   "metadata": {},
   "outputs": [],
   "source": [
    "X_train_n = X_train_n.reshape((X_train_n.shape[0], 1, X_train_n.shape[1]))\n",
    "X_test_n = X_test_n.reshape((X_test_n.shape[0], 1, X_test_n.shape[1]))"
   ]
  },
  {
   "cell_type": "code",
   "execution_count": 224,
   "metadata": {},
   "outputs": [],
   "source": [
    "model = Sequential()\n",
    "model.add(LSTM(128, input_shape=(X_train_n.shape[1], X_train_n.shape[2]), return_sequences=True))\n",
    "model.add(LSTM(128, return_sequences=True))\n",
    "model.add(LSTM(64))\n",
    "model.add(Dense(10, activation='softmax'))"
   ]
  },
  {
   "cell_type": "code",
   "execution_count": 225,
   "metadata": {},
   "outputs": [],
   "source": [
    "model.compile(loss='sparse_categorical_crossentropy', optimizer='adam', metrics=['accuracy'])"
   ]
  },
  {
   "cell_type": "code",
   "execution_count": 226,
   "metadata": {},
   "outputs": [
    {
     "name": "stdout",
     "output_type": "stream",
     "text": [
      "Epoch 1/50\n"
     ]
    },
    {
     "name": "stdout",
     "output_type": "stream",
     "text": [
      "163/163 [==============================] - 5s 10ms/step - loss: 1.4091 - accuracy: 0.4272 - val_loss: 1.2594 - val_accuracy: 0.4454\n",
      "Epoch 2/50\n",
      "163/163 [==============================] - 1s 6ms/step - loss: 1.2767 - accuracy: 0.4331 - val_loss: 1.2357 - val_accuracy: 0.4438\n",
      "Epoch 3/50\n",
      "163/163 [==============================] - 1s 6ms/step - loss: 1.2295 - accuracy: 0.4510 - val_loss: 1.1500 - val_accuracy: 0.4615\n",
      "Epoch 4/50\n",
      "163/163 [==============================] - 1s 5ms/step - loss: 1.1748 - accuracy: 0.4857 - val_loss: 1.0940 - val_accuracy: 0.4869\n",
      "Epoch 5/50\n",
      "163/163 [==============================] - 1s 6ms/step - loss: 1.1384 - accuracy: 0.5038 - val_loss: 1.0856 - val_accuracy: 0.5131\n",
      "Epoch 6/50\n",
      "163/163 [==============================] - 1s 5ms/step - loss: 1.1366 - accuracy: 0.5105 - val_loss: 1.0639 - val_accuracy: 0.5131\n",
      "Epoch 7/50\n",
      "163/163 [==============================] - 1s 5ms/step - loss: 1.1306 - accuracy: 0.5124 - val_loss: 1.0679 - val_accuracy: 0.5062\n",
      "Epoch 8/50\n",
      "163/163 [==============================] - 1s 5ms/step - loss: 1.1153 - accuracy: 0.5126 - val_loss: 1.1186 - val_accuracy: 0.4962\n",
      "Epoch 9/50\n",
      "163/163 [==============================] - 1s 6ms/step - loss: 1.1046 - accuracy: 0.5174 - val_loss: 1.0501 - val_accuracy: 0.5246\n",
      "Epoch 10/50\n",
      "163/163 [==============================] - 1s 5ms/step - loss: 1.1077 - accuracy: 0.5147 - val_loss: 1.0494 - val_accuracy: 0.5315\n",
      "Epoch 11/50\n",
      "163/163 [==============================] - 1s 5ms/step - loss: 1.1001 - accuracy: 0.5134 - val_loss: 1.1487 - val_accuracy: 0.5023\n",
      "Epoch 12/50\n",
      "163/163 [==============================] - 1s 5ms/step - loss: 1.1015 - accuracy: 0.5188 - val_loss: 1.0485 - val_accuracy: 0.5277\n",
      "Epoch 13/50\n",
      "163/163 [==============================] - 1s 5ms/step - loss: 1.0975 - accuracy: 0.5232 - val_loss: 1.0472 - val_accuracy: 0.5131\n",
      "Epoch 14/50\n",
      "163/163 [==============================] - 1s 5ms/step - loss: 1.0953 - accuracy: 0.5247 - val_loss: 1.0491 - val_accuracy: 0.5192\n",
      "Epoch 15/50\n",
      "163/163 [==============================] - 1s 5ms/step - loss: 1.0961 - accuracy: 0.5230 - val_loss: 1.0353 - val_accuracy: 0.5192\n",
      "Epoch 16/50\n",
      "163/163 [==============================] - 1s 5ms/step - loss: 1.0840 - accuracy: 0.5199 - val_loss: 1.0313 - val_accuracy: 0.5408\n",
      "Epoch 17/50\n",
      "163/163 [==============================] - 1s 5ms/step - loss: 1.0899 - accuracy: 0.5247 - val_loss: 1.0426 - val_accuracy: 0.5354\n",
      "Epoch 18/50\n",
      "163/163 [==============================] - 1s 5ms/step - loss: 1.0876 - accuracy: 0.5201 - val_loss: 1.0333 - val_accuracy: 0.5169\n",
      "Epoch 19/50\n",
      "163/163 [==============================] - 1s 6ms/step - loss: 1.0813 - accuracy: 0.5276 - val_loss: 1.0283 - val_accuracy: 0.5223\n",
      "Epoch 20/50\n",
      "163/163 [==============================] - 1s 5ms/step - loss: 1.0759 - accuracy: 0.5334 - val_loss: 1.0320 - val_accuracy: 0.5208\n",
      "Epoch 21/50\n",
      "163/163 [==============================] - 1s 5ms/step - loss: 1.0688 - accuracy: 0.5415 - val_loss: 1.0238 - val_accuracy: 0.5315\n",
      "Epoch 22/50\n",
      "163/163 [==============================] - 1s 5ms/step - loss: 1.0740 - accuracy: 0.5238 - val_loss: 1.0193 - val_accuracy: 0.5331\n",
      "Epoch 23/50\n",
      "163/163 [==============================] - 1s 5ms/step - loss: 1.0743 - accuracy: 0.5278 - val_loss: 1.0209 - val_accuracy: 0.5369\n",
      "Epoch 24/50\n",
      "163/163 [==============================] - 1s 5ms/step - loss: 1.0698 - accuracy: 0.5328 - val_loss: 1.0207 - val_accuracy: 0.5462\n",
      "Epoch 25/50\n",
      "163/163 [==============================] - 1s 5ms/step - loss: 1.0617 - accuracy: 0.5372 - val_loss: 1.0564 - val_accuracy: 0.5277\n",
      "Epoch 26/50\n",
      "163/163 [==============================] - 1s 5ms/step - loss: 1.0641 - accuracy: 0.5397 - val_loss: 1.0626 - val_accuracy: 0.5315\n",
      "Epoch 27/50\n",
      "163/163 [==============================] - 1s 7ms/step - loss: 1.0622 - accuracy: 0.5397 - val_loss: 1.0066 - val_accuracy: 0.5385\n",
      "Epoch 28/50\n",
      "163/163 [==============================] - 1s 5ms/step - loss: 1.0547 - accuracy: 0.5424 - val_loss: 1.0273 - val_accuracy: 0.5277\n",
      "Epoch 29/50\n",
      "163/163 [==============================] - 1s 5ms/step - loss: 1.0680 - accuracy: 0.5293 - val_loss: 1.0248 - val_accuracy: 0.5331\n",
      "Epoch 30/50\n",
      "163/163 [==============================] - 1s 6ms/step - loss: 1.0593 - accuracy: 0.5361 - val_loss: 1.0179 - val_accuracy: 0.5277\n",
      "Epoch 31/50\n",
      "163/163 [==============================] - 1s 7ms/step - loss: 1.0493 - accuracy: 0.5419 - val_loss: 1.0050 - val_accuracy: 0.5485\n",
      "Epoch 32/50\n",
      "163/163 [==============================] - 1s 7ms/step - loss: 1.0537 - accuracy: 0.5378 - val_loss: 1.0211 - val_accuracy: 0.5246\n",
      "Epoch 33/50\n",
      "163/163 [==============================] - 1s 7ms/step - loss: 1.0537 - accuracy: 0.5386 - val_loss: 1.0106 - val_accuracy: 0.5523\n",
      "Epoch 34/50\n",
      "163/163 [==============================] - 1s 5ms/step - loss: 1.0527 - accuracy: 0.5428 - val_loss: 1.0238 - val_accuracy: 0.5300\n",
      "Epoch 35/50\n",
      "163/163 [==============================] - 1s 5ms/step - loss: 1.0510 - accuracy: 0.5384 - val_loss: 1.0139 - val_accuracy: 0.5338\n",
      "Epoch 36/50\n",
      "163/163 [==============================] - 1s 5ms/step - loss: 1.0529 - accuracy: 0.5426 - val_loss: 1.0218 - val_accuracy: 0.5269\n",
      "Epoch 37/50\n",
      "163/163 [==============================] - 1s 5ms/step - loss: 1.0614 - accuracy: 0.5361 - val_loss: 1.0128 - val_accuracy: 0.5308\n",
      "Epoch 38/50\n",
      "163/163 [==============================] - 1s 5ms/step - loss: 1.0508 - accuracy: 0.5426 - val_loss: 1.0628 - val_accuracy: 0.5285\n",
      "Epoch 39/50\n",
      "163/163 [==============================] - 1s 5ms/step - loss: 1.0484 - accuracy: 0.5428 - val_loss: 1.0158 - val_accuracy: 0.5262\n",
      "Epoch 40/50\n",
      "163/163 [==============================] - 1s 6ms/step - loss: 1.0475 - accuracy: 0.5492 - val_loss: 1.0123 - val_accuracy: 0.5223\n",
      "Epoch 41/50\n",
      "163/163 [==============================] - 1s 6ms/step - loss: 1.0404 - accuracy: 0.5482 - val_loss: 1.0088 - val_accuracy: 0.5431\n",
      "Epoch 42/50\n",
      "163/163 [==============================] - 1s 5ms/step - loss: 1.0442 - accuracy: 0.5444 - val_loss: 1.0240 - val_accuracy: 0.5508\n",
      "Epoch 43/50\n",
      "163/163 [==============================] - 1s 6ms/step - loss: 1.0461 - accuracy: 0.5399 - val_loss: 1.0525 - val_accuracy: 0.5277\n",
      "Epoch 44/50\n",
      "163/163 [==============================] - 1s 5ms/step - loss: 1.0414 - accuracy: 0.5469 - val_loss: 1.0295 - val_accuracy: 0.5246\n",
      "Epoch 45/50\n",
      "163/163 [==============================] - 1s 5ms/step - loss: 1.0369 - accuracy: 0.5422 - val_loss: 1.0149 - val_accuracy: 0.5377\n",
      "Epoch 46/50\n",
      "163/163 [==============================] - 1s 5ms/step - loss: 1.0387 - accuracy: 0.5438 - val_loss: 1.0192 - val_accuracy: 0.5231\n",
      "Epoch 47/50\n",
      "163/163 [==============================] - 1s 5ms/step - loss: 1.0456 - accuracy: 0.5459 - val_loss: 1.0292 - val_accuracy: 0.5315\n",
      "Epoch 48/50\n",
      "163/163 [==============================] - 1s 5ms/step - loss: 1.0251 - accuracy: 0.5546 - val_loss: 1.0008 - val_accuracy: 0.5377\n",
      "Epoch 49/50\n",
      "163/163 [==============================] - 1s 5ms/step - loss: 1.0270 - accuracy: 0.5488 - val_loss: 1.0112 - val_accuracy: 0.5331\n",
      "Epoch 50/50\n",
      "163/163 [==============================] - 1s 5ms/step - loss: 1.0291 - accuracy: 0.5555 - val_loss: 1.0130 - val_accuracy: 0.5408\n"
     ]
    },
    {
     "data": {
      "text/plain": [
       "<keras.src.callbacks.History at 0x1f148387f90>"
      ]
     },
     "execution_count": 226,
     "metadata": {},
     "output_type": "execute_result"
    }
   ],
   "source": [
    "model.fit(X_train_n, y_train_n, epochs=50, batch_size=32, validation_data=(X_test_n, y_test_n))"
   ]
  },
  {
   "cell_type": "code",
   "execution_count": 227,
   "metadata": {},
   "outputs": [
    {
     "name": "stdout",
     "output_type": "stream",
     "text": [
      " 1/41 [..............................] - ETA: 0s - loss: 1.2547 - accuracy: 0.4375"
     ]
    },
    {
     "name": "stdout",
     "output_type": "stream",
     "text": [
      "41/41 [==============================] - 0s 3ms/step - loss: 1.0130 - accuracy: 0.5408\n",
      "Test Loss: 1.0130\n",
      "Test Accuracy: 0.5408\n"
     ]
    }
   ],
   "source": [
    "loss, accuracy = model.evaluate(X_test_n, y_test_n)\n",
    "print(f\"Test Loss: {loss:.4f}\")\n",
    "print(f\"Test Accuracy: {accuracy:.4f}\")"
   ]
  },
  {
   "cell_type": "markdown",
   "metadata": {},
   "source": [
    "## 4. Over fitting"
   ]
  },
  {
   "cell_type": "markdown",
   "metadata": {},
   "source": [
    "Để giảm overfitting , ta có thể giảm độ phức tạp của mô hình bằng cách giảm hidden layer , cũng như số neuron trên 1 layer, giảm epochs\n",
    "\n",
    "Ở đây , ta sẽ bớt đi một hidden layer ở giữa"
   ]
  },
  {
   "cell_type": "code",
   "execution_count": 228,
   "metadata": {},
   "outputs": [],
   "source": [
    "model_over = Sequential()\n",
    "model_over.add(LSTM(128, input_shape=(X_train_n.shape[1], X_train_n.shape[2]), return_sequences=True))\n",
    "model_over.add(LSTM(64))\n",
    "model_over.add(Dense(10, activation='softmax'))"
   ]
  },
  {
   "cell_type": "code",
   "execution_count": 229,
   "metadata": {},
   "outputs": [],
   "source": [
    "model_over.compile(loss='sparse_categorical_crossentropy', optimizer='adam', metrics=['accuracy'])"
   ]
  },
  {
   "cell_type": "code",
   "execution_count": 230,
   "metadata": {},
   "outputs": [
    {
     "name": "stdout",
     "output_type": "stream",
     "text": [
      "Epoch 1/25\n"
     ]
    },
    {
     "name": "stdout",
     "output_type": "stream",
     "text": [
      "163/163 [==============================] - 4s 9ms/step - loss: 1.3845 - accuracy: 0.4277 - val_loss: 1.2361 - val_accuracy: 0.4462\n",
      "Epoch 2/25\n",
      "163/163 [==============================] - 1s 4ms/step - loss: 1.2491 - accuracy: 0.4462 - val_loss: 1.1937 - val_accuracy: 0.4562\n",
      "Epoch 3/25\n",
      "163/163 [==============================] - 1s 4ms/step - loss: 1.1926 - accuracy: 0.4757 - val_loss: 1.1384 - val_accuracy: 0.4623\n",
      "Epoch 4/25\n",
      "163/163 [==============================] - 1s 4ms/step - loss: 1.1574 - accuracy: 0.4903 - val_loss: 1.0971 - val_accuracy: 0.4869\n",
      "Epoch 5/25\n",
      "163/163 [==============================] - 1s 4ms/step - loss: 1.1334 - accuracy: 0.5047 - val_loss: 1.0736 - val_accuracy: 0.5054\n",
      "Epoch 6/25\n",
      "163/163 [==============================] - 1s 4ms/step - loss: 1.1149 - accuracy: 0.5114 - val_loss: 1.0694 - val_accuracy: 0.5269\n",
      "Epoch 7/25\n",
      "163/163 [==============================] - 1s 5ms/step - loss: 1.1119 - accuracy: 0.5199 - val_loss: 1.0713 - val_accuracy: 0.5246\n",
      "Epoch 8/25\n",
      "163/163 [==============================] - 1s 5ms/step - loss: 1.1029 - accuracy: 0.5147 - val_loss: 1.0484 - val_accuracy: 0.5069\n",
      "Epoch 9/25\n",
      "163/163 [==============================] - 1s 4ms/step - loss: 1.0950 - accuracy: 0.5211 - val_loss: 1.0562 - val_accuracy: 0.5269\n",
      "Epoch 10/25\n",
      "163/163 [==============================] - 1s 5ms/step - loss: 1.1011 - accuracy: 0.5238 - val_loss: 1.0433 - val_accuracy: 0.5269\n",
      "Epoch 11/25\n",
      "163/163 [==============================] - 1s 4ms/step - loss: 1.0960 - accuracy: 0.5134 - val_loss: 1.0421 - val_accuracy: 0.5400\n",
      "Epoch 12/25\n",
      "163/163 [==============================] - 1s 4ms/step - loss: 1.0905 - accuracy: 0.5215 - val_loss: 1.0483 - val_accuracy: 0.5254\n",
      "Epoch 13/25\n",
      "163/163 [==============================] - 1s 4ms/step - loss: 1.0882 - accuracy: 0.5307 - val_loss: 1.0299 - val_accuracy: 0.5354\n",
      "Epoch 14/25\n",
      "163/163 [==============================] - 1s 4ms/step - loss: 1.0810 - accuracy: 0.5251 - val_loss: 1.0223 - val_accuracy: 0.5377\n",
      "Epoch 15/25\n",
      "163/163 [==============================] - 1s 4ms/step - loss: 1.0831 - accuracy: 0.5278 - val_loss: 1.0442 - val_accuracy: 0.5300\n",
      "Epoch 16/25\n",
      "163/163 [==============================] - 1s 4ms/step - loss: 1.0785 - accuracy: 0.5340 - val_loss: 1.0415 - val_accuracy: 0.5385\n",
      "Epoch 17/25\n",
      "163/163 [==============================] - 1s 4ms/step - loss: 1.0770 - accuracy: 0.5293 - val_loss: 1.0306 - val_accuracy: 0.5315\n",
      "Epoch 18/25\n",
      "163/163 [==============================] - 1s 5ms/step - loss: 1.0748 - accuracy: 0.5315 - val_loss: 1.0341 - val_accuracy: 0.5308\n",
      "Epoch 19/25\n",
      "163/163 [==============================] - 1s 4ms/step - loss: 1.0744 - accuracy: 0.5203 - val_loss: 1.0306 - val_accuracy: 0.5277\n",
      "Epoch 20/25\n",
      "163/163 [==============================] - 1s 5ms/step - loss: 1.0704 - accuracy: 0.5301 - val_loss: 1.0385 - val_accuracy: 0.5331\n",
      "Epoch 21/25\n",
      "163/163 [==============================] - 1s 5ms/step - loss: 1.0659 - accuracy: 0.5342 - val_loss: 1.0350 - val_accuracy: 0.5285\n",
      "Epoch 22/25\n",
      "163/163 [==============================] - 1s 4ms/step - loss: 1.0665 - accuracy: 0.5422 - val_loss: 1.0474 - val_accuracy: 0.5331\n",
      "Epoch 23/25\n",
      "163/163 [==============================] - 1s 4ms/step - loss: 1.0634 - accuracy: 0.5343 - val_loss: 1.0336 - val_accuracy: 0.5331\n",
      "Epoch 24/25\n",
      "163/163 [==============================] - 1s 5ms/step - loss: 1.0685 - accuracy: 0.5411 - val_loss: 1.0360 - val_accuracy: 0.5254\n",
      "Epoch 25/25\n",
      "163/163 [==============================] - 1s 4ms/step - loss: 1.0649 - accuracy: 0.5393 - val_loss: 1.0426 - val_accuracy: 0.5269\n"
     ]
    },
    {
     "data": {
      "text/plain": [
       "<keras.src.callbacks.History at 0x1f186bf6190>"
      ]
     },
     "execution_count": 230,
     "metadata": {},
     "output_type": "execute_result"
    }
   ],
   "source": [
    "model_over.fit(X_train_n, y_train_n, epochs=25, batch_size=32, validation_data=(X_test_n, y_test_n))"
   ]
  },
  {
   "cell_type": "markdown",
   "metadata": {},
   "source": [
    "### Accuracy sau khi tránh overfitting đã giảm"
   ]
  },
  {
   "cell_type": "code",
   "execution_count": 231,
   "metadata": {},
   "outputs": [
    {
     "name": "stdout",
     "output_type": "stream",
     "text": [
      " 1/41 [..............................] - ETA: 1s - loss: 1.3543 - accuracy: 0.4375"
     ]
    },
    {
     "name": "stdout",
     "output_type": "stream",
     "text": [
      "41/41 [==============================] - 0s 3ms/step - loss: 1.0426 - accuracy: 0.5269\n",
      "Test Loss: 1.0426\n",
      "Test Accuracy: 0.5269\n"
     ]
    }
   ],
   "source": [
    "loss, accuracy = model_over.evaluate(X_test_n, y_test_n)\n",
    "print(f\"Test Loss: {loss:.4f}\")\n",
    "print(f\"Test Accuracy: {accuracy:.4f}\")"
   ]
  },
  {
   "cell_type": "markdown",
   "metadata": {},
   "source": [
    "## 5 . Improve model"
   ]
  },
  {
   "cell_type": "code",
   "execution_count": 232,
   "metadata": {},
   "outputs": [],
   "source": [
    "model = Sequential()\n",
    "model.add(LSTM(128, input_shape=(X_train_n.shape[1], X_train_n.shape[2]), return_sequences=True))\n",
    "model.add(LSTM(128, return_sequences=True))\n",
    "model.add(LSTM(64))\n",
    "model.add(Dense(10, activation='softmax'))"
   ]
  },
  {
   "cell_type": "code",
   "execution_count": 233,
   "metadata": {},
   "outputs": [],
   "source": [
    "model.compile(loss='sparse_categorical_crossentropy', optimizer='adam', metrics=['accuracy'])"
   ]
  },
  {
   "cell_type": "code",
   "execution_count": 234,
   "metadata": {},
   "outputs": [
    {
     "name": "stdout",
     "output_type": "stream",
     "text": [
      "Epoch 1/75\n"
     ]
    },
    {
     "name": "stdout",
     "output_type": "stream",
     "text": [
      "21/21 [==============================] - 5s 60ms/step - loss: 2.0231 - accuracy: 0.4124 - val_loss: 1.4566 - val_accuracy: 0.4454\n",
      "Epoch 2/75\n",
      "21/21 [==============================] - 0s 13ms/step - loss: 1.3599 - accuracy: 0.4214 - val_loss: 1.2774 - val_accuracy: 0.4454\n",
      "Epoch 3/75\n",
      "21/21 [==============================] - 0s 11ms/step - loss: 1.3002 - accuracy: 0.4343 - val_loss: 1.2610 - val_accuracy: 0.4454\n",
      "Epoch 4/75\n",
      "21/21 [==============================] - 0s 11ms/step - loss: 1.2870 - accuracy: 0.4343 - val_loss: 1.2545 - val_accuracy: 0.4454\n",
      "Epoch 5/75\n",
      "21/21 [==============================] - 0s 11ms/step - loss: 1.2835 - accuracy: 0.4349 - val_loss: 1.2510 - val_accuracy: 0.4454\n",
      "Epoch 6/75\n",
      "21/21 [==============================] - 0s 11ms/step - loss: 1.2794 - accuracy: 0.4341 - val_loss: 1.2483 - val_accuracy: 0.4446\n",
      "Epoch 7/75\n",
      "21/21 [==============================] - 0s 11ms/step - loss: 1.2746 - accuracy: 0.4370 - val_loss: 1.2473 - val_accuracy: 0.4262\n",
      "Epoch 8/75\n",
      "21/21 [==============================] - 0s 11ms/step - loss: 1.2693 - accuracy: 0.4474 - val_loss: 1.2370 - val_accuracy: 0.4415\n",
      "Epoch 9/75\n",
      "21/21 [==============================] - 0s 12ms/step - loss: 1.2556 - accuracy: 0.4464 - val_loss: 1.2320 - val_accuracy: 0.4569\n",
      "Epoch 10/75\n",
      "21/21 [==============================] - 0s 13ms/step - loss: 1.2349 - accuracy: 0.4645 - val_loss: 1.2029 - val_accuracy: 0.4731\n",
      "Epoch 11/75\n",
      "21/21 [==============================] - 0s 14ms/step - loss: 1.2080 - accuracy: 0.4691 - val_loss: 1.1694 - val_accuracy: 0.4962\n",
      "Epoch 12/75\n",
      "21/21 [==============================] - 0s 12ms/step - loss: 1.1790 - accuracy: 0.4887 - val_loss: 1.1334 - val_accuracy: 0.5015\n",
      "Epoch 13/75\n",
      "21/21 [==============================] - 0s 12ms/step - loss: 1.1479 - accuracy: 0.4995 - val_loss: 1.1363 - val_accuracy: 0.4985\n",
      "Epoch 14/75\n",
      "21/21 [==============================] - 0s 13ms/step - loss: 1.1389 - accuracy: 0.5118 - val_loss: 1.0956 - val_accuracy: 0.5123\n",
      "Epoch 15/75\n",
      "21/21 [==============================] - 0s 12ms/step - loss: 1.1434 - accuracy: 0.4970 - val_loss: 1.0986 - val_accuracy: 0.5169\n",
      "Epoch 16/75\n",
      "21/21 [==============================] - 0s 11ms/step - loss: 1.1178 - accuracy: 0.5091 - val_loss: 1.0589 - val_accuracy: 0.5208\n",
      "Epoch 17/75\n",
      "21/21 [==============================] - 0s 12ms/step - loss: 1.1026 - accuracy: 0.5228 - val_loss: 1.0454 - val_accuracy: 0.5315\n",
      "Epoch 18/75\n",
      "21/21 [==============================] - 0s 12ms/step - loss: 1.0981 - accuracy: 0.5299 - val_loss: 1.0683 - val_accuracy: 0.5146\n",
      "Epoch 19/75\n",
      "21/21 [==============================] - 0s 11ms/step - loss: 1.0978 - accuracy: 0.5240 - val_loss: 1.0839 - val_accuracy: 0.4954\n",
      "Epoch 20/75\n",
      "21/21 [==============================] - 0s 11ms/step - loss: 1.0959 - accuracy: 0.5295 - val_loss: 1.0673 - val_accuracy: 0.4977\n",
      "Epoch 21/75\n",
      "21/21 [==============================] - 0s 12ms/step - loss: 1.0967 - accuracy: 0.5255 - val_loss: 1.0891 - val_accuracy: 0.4969\n",
      "Epoch 22/75\n",
      "21/21 [==============================] - 0s 11ms/step - loss: 1.1028 - accuracy: 0.5128 - val_loss: 1.0881 - val_accuracy: 0.5015\n",
      "Epoch 23/75\n",
      "21/21 [==============================] - 0s 10ms/step - loss: 1.1109 - accuracy: 0.5141 - val_loss: 1.0817 - val_accuracy: 0.5108\n",
      "Epoch 24/75\n",
      "21/21 [==============================] - 0s 14ms/step - loss: 1.0932 - accuracy: 0.5241 - val_loss: 1.0372 - val_accuracy: 0.5277\n",
      "Epoch 25/75\n",
      "21/21 [==============================] - 0s 12ms/step - loss: 1.0818 - accuracy: 0.5240 - val_loss: 1.0288 - val_accuracy: 0.5254\n",
      "Epoch 26/75\n",
      "21/21 [==============================] - 0s 11ms/step - loss: 1.0791 - accuracy: 0.5342 - val_loss: 1.0344 - val_accuracy: 0.5108\n",
      "Epoch 27/75\n",
      "21/21 [==============================] - 0s 11ms/step - loss: 1.0776 - accuracy: 0.5305 - val_loss: 1.0741 - val_accuracy: 0.5077\n",
      "Epoch 28/75\n",
      "21/21 [==============================] - 0s 12ms/step - loss: 1.0903 - accuracy: 0.5317 - val_loss: 1.0425 - val_accuracy: 0.5238\n",
      "Epoch 29/75\n",
      "21/21 [==============================] - 0s 11ms/step - loss: 1.0794 - accuracy: 0.5299 - val_loss: 1.0320 - val_accuracy: 0.5208\n",
      "Epoch 30/75\n",
      "21/21 [==============================] - 0s 13ms/step - loss: 1.0772 - accuracy: 0.5407 - val_loss: 1.0318 - val_accuracy: 0.5223\n",
      "Epoch 31/75\n",
      "21/21 [==============================] - 0s 11ms/step - loss: 1.0804 - accuracy: 0.5355 - val_loss: 1.0331 - val_accuracy: 0.5238\n",
      "Epoch 32/75\n",
      "21/21 [==============================] - 0s 11ms/step - loss: 1.0691 - accuracy: 0.5382 - val_loss: 1.0182 - val_accuracy: 0.5262\n",
      "Epoch 33/75\n",
      "21/21 [==============================] - 0s 12ms/step - loss: 1.0865 - accuracy: 0.5216 - val_loss: 1.0701 - val_accuracy: 0.5208\n",
      "Epoch 34/75\n",
      "21/21 [==============================] - 0s 11ms/step - loss: 1.1095 - accuracy: 0.5134 - val_loss: 1.0292 - val_accuracy: 0.5285\n",
      "Epoch 35/75\n",
      "21/21 [==============================] - 0s 12ms/step - loss: 1.0773 - accuracy: 0.5315 - val_loss: 1.0352 - val_accuracy: 0.5254\n",
      "Epoch 36/75\n",
      "21/21 [==============================] - 0s 10ms/step - loss: 1.0747 - accuracy: 0.5368 - val_loss: 1.0204 - val_accuracy: 0.5262\n",
      "Epoch 37/75\n",
      "21/21 [==============================] - 0s 11ms/step - loss: 1.0746 - accuracy: 0.5261 - val_loss: 1.0309 - val_accuracy: 0.5331\n",
      "Epoch 38/75\n",
      "21/21 [==============================] - 0s 11ms/step - loss: 1.0662 - accuracy: 0.5436 - val_loss: 1.0161 - val_accuracy: 0.5231\n",
      "Epoch 39/75\n",
      "21/21 [==============================] - 0s 10ms/step - loss: 1.0607 - accuracy: 0.5357 - val_loss: 1.0359 - val_accuracy: 0.5185\n",
      "Epoch 40/75\n",
      "21/21 [==============================] - 0s 11ms/step - loss: 1.0723 - accuracy: 0.5345 - val_loss: 1.0303 - val_accuracy: 0.5254\n",
      "Epoch 41/75\n",
      "21/21 [==============================] - 0s 10ms/step - loss: 1.0627 - accuracy: 0.5382 - val_loss: 1.0176 - val_accuracy: 0.5308\n",
      "Epoch 42/75\n",
      "21/21 [==============================] - 0s 12ms/step - loss: 1.0596 - accuracy: 0.5420 - val_loss: 1.0124 - val_accuracy: 0.5408\n",
      "Epoch 43/75\n",
      "21/21 [==============================] - 0s 9ms/step - loss: 1.0592 - accuracy: 0.5449 - val_loss: 1.0109 - val_accuracy: 0.5315\n",
      "Epoch 44/75\n",
      "21/21 [==============================] - 0s 9ms/step - loss: 1.0592 - accuracy: 0.5459 - val_loss: 1.0246 - val_accuracy: 0.5354\n",
      "Epoch 45/75\n",
      "21/21 [==============================] - 0s 10ms/step - loss: 1.0704 - accuracy: 0.5301 - val_loss: 1.0126 - val_accuracy: 0.5269\n",
      "Epoch 46/75\n",
      "21/21 [==============================] - 0s 9ms/step - loss: 1.0549 - accuracy: 0.5449 - val_loss: 1.0342 - val_accuracy: 0.5315\n",
      "Epoch 47/75\n",
      "21/21 [==============================] - 0s 10ms/step - loss: 1.0576 - accuracy: 0.5405 - val_loss: 1.0412 - val_accuracy: 0.5285\n",
      "Epoch 48/75\n",
      "21/21 [==============================] - 0s 9ms/step - loss: 1.0549 - accuracy: 0.5478 - val_loss: 1.0256 - val_accuracy: 0.5362\n",
      "Epoch 49/75\n",
      "21/21 [==============================] - 0s 10ms/step - loss: 1.0555 - accuracy: 0.5386 - val_loss: 1.0406 - val_accuracy: 0.5154\n",
      "Epoch 50/75\n",
      "21/21 [==============================] - 0s 10ms/step - loss: 1.0637 - accuracy: 0.5445 - val_loss: 1.0364 - val_accuracy: 0.5285\n",
      "Epoch 51/75\n",
      "21/21 [==============================] - 0s 10ms/step - loss: 1.0565 - accuracy: 0.5422 - val_loss: 1.0140 - val_accuracy: 0.5331\n",
      "Epoch 52/75\n",
      "21/21 [==============================] - 0s 10ms/step - loss: 1.0530 - accuracy: 0.5390 - val_loss: 1.0154 - val_accuracy: 0.5469\n",
      "Epoch 53/75\n",
      "21/21 [==============================] - 0s 9ms/step - loss: 1.0473 - accuracy: 0.5490 - val_loss: 1.0144 - val_accuracy: 0.5315\n",
      "Epoch 54/75\n",
      "21/21 [==============================] - 0s 9ms/step - loss: 1.0528 - accuracy: 0.5453 - val_loss: 1.0031 - val_accuracy: 0.5408\n",
      "Epoch 55/75\n",
      "21/21 [==============================] - 0s 9ms/step - loss: 1.0457 - accuracy: 0.5517 - val_loss: 1.0042 - val_accuracy: 0.5338\n",
      "Epoch 56/75\n",
      "21/21 [==============================] - 0s 9ms/step - loss: 1.0483 - accuracy: 0.5461 - val_loss: 1.0435 - val_accuracy: 0.5300\n",
      "Epoch 57/75\n",
      "21/21 [==============================] - 0s 15ms/step - loss: 1.0503 - accuracy: 0.5442 - val_loss: 1.0132 - val_accuracy: 0.5300\n",
      "Epoch 58/75\n",
      "21/21 [==============================] - 0s 10ms/step - loss: 1.0519 - accuracy: 0.5392 - val_loss: 1.0097 - val_accuracy: 0.5269\n",
      "Epoch 59/75\n",
      "21/21 [==============================] - 0s 10ms/step - loss: 1.0439 - accuracy: 0.5534 - val_loss: 1.0072 - val_accuracy: 0.5446\n",
      "Epoch 60/75\n",
      "21/21 [==============================] - 0s 10ms/step - loss: 1.0461 - accuracy: 0.5472 - val_loss: 1.0085 - val_accuracy: 0.5315\n",
      "Epoch 61/75\n",
      "21/21 [==============================] - 0s 12ms/step - loss: 1.0418 - accuracy: 0.5530 - val_loss: 1.0031 - val_accuracy: 0.5369\n",
      "Epoch 62/75\n",
      "21/21 [==============================] - 0s 10ms/step - loss: 1.0400 - accuracy: 0.5497 - val_loss: 1.0096 - val_accuracy: 0.5246\n",
      "Epoch 63/75\n",
      "21/21 [==============================] - 0s 12ms/step - loss: 1.0481 - accuracy: 0.5449 - val_loss: 1.0301 - val_accuracy: 0.5177\n",
      "Epoch 64/75\n",
      "21/21 [==============================] - 0s 10ms/step - loss: 1.0387 - accuracy: 0.5553 - val_loss: 1.0130 - val_accuracy: 0.5385\n",
      "Epoch 65/75\n",
      "21/21 [==============================] - 0s 12ms/step - loss: 1.0379 - accuracy: 0.5557 - val_loss: 1.0454 - val_accuracy: 0.5154\n",
      "Epoch 66/75\n",
      "21/21 [==============================] - 0s 10ms/step - loss: 1.0537 - accuracy: 0.5405 - val_loss: 1.0063 - val_accuracy: 0.5408\n",
      "Epoch 67/75\n",
      "21/21 [==============================] - 0s 11ms/step - loss: 1.0403 - accuracy: 0.5540 - val_loss: 1.0317 - val_accuracy: 0.5315\n",
      "Epoch 68/75\n",
      "21/21 [==============================] - 0s 11ms/step - loss: 1.0436 - accuracy: 0.5401 - val_loss: 1.0093 - val_accuracy: 0.5308\n",
      "Epoch 69/75\n",
      "21/21 [==============================] - 0s 10ms/step - loss: 1.0345 - accuracy: 0.5546 - val_loss: 1.0156 - val_accuracy: 0.5308\n",
      "Epoch 70/75\n",
      "21/21 [==============================] - 0s 12ms/step - loss: 1.0392 - accuracy: 0.5444 - val_loss: 1.0304 - val_accuracy: 0.5369\n",
      "Epoch 71/75\n",
      "21/21 [==============================] - 0s 10ms/step - loss: 1.0475 - accuracy: 0.5436 - val_loss: 1.0251 - val_accuracy: 0.5362\n",
      "Epoch 72/75\n",
      "21/21 [==============================] - 0s 13ms/step - loss: 1.0445 - accuracy: 0.5517 - val_loss: 1.0126 - val_accuracy: 0.5362\n",
      "Epoch 73/75\n",
      "21/21 [==============================] - 0s 10ms/step - loss: 1.0370 - accuracy: 0.5484 - val_loss: 1.0108 - val_accuracy: 0.5377\n",
      "Epoch 74/75\n",
      "21/21 [==============================] - 0s 9ms/step - loss: 1.0370 - accuracy: 0.5519 - val_loss: 1.0210 - val_accuracy: 0.5354\n",
      "Epoch 75/75\n",
      "21/21 [==============================] - 0s 10ms/step - loss: 1.0383 - accuracy: 0.5488 - val_loss: 1.0051 - val_accuracy: 0.5446\n"
     ]
    },
    {
     "data": {
      "text/plain": [
       "<keras.src.callbacks.History at 0x1f18a552650>"
      ]
     },
     "execution_count": 234,
     "metadata": {},
     "output_type": "execute_result"
    }
   ],
   "source": [
    "model.fit(X_train_n, y_train_n, epochs=75, batch_size=256, validation_data=(X_test_n, y_test_n))"
   ]
  },
  {
   "cell_type": "code",
   "execution_count": 235,
   "metadata": {},
   "outputs": [
    {
     "name": "stdout",
     "output_type": "stream",
     "text": [
      "41/41 [==============================] - 0s 4ms/step - loss: 1.0051 - accuracy: 0.5446\n",
      "Test Loss: 1.0051\n",
      "Test Accuracy: 0.5446\n"
     ]
    }
   ],
   "source": [
    "loss, accuracy = model.evaluate(X_test_n, y_test_n)\n",
    "print(f\"Test Loss: {loss:.4f}\")\n",
    "print(f\"Test Accuracy: {accuracy:.4f}\")"
   ]
  }
 ],
 "metadata": {
  "kernelspec": {
   "display_name": "Python 3",
   "language": "python",
   "name": "python3"
  },
  "language_info": {
   "codemirror_mode": {
    "name": "ipython",
    "version": 3
   },
   "file_extension": ".py",
   "mimetype": "text/x-python",
   "name": "python",
   "nbconvert_exporter": "python",
   "pygments_lexer": "ipython3",
   "version": "3.11.5"
  }
 },
 "nbformat": 4,
 "nbformat_minor": 2
}
